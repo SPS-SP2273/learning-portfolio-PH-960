{
 "cells": [
  {
   "attachments": {},
   "cell_type": "markdown",
   "id": "123456",
   "metadata": {},
   "source": [
    "<div style=\"text-align:left;font-size:2em\"><span style=\"font-weight:bolder;font-size:1.25em\">SP2273 | Learning Portfolio</span><br><br><span style=\"font-weight:bold;color:darkred\">Loops (Need)</span></div>"
   ]
  },
  {
   "attachments": {},
   "cell_type": "markdown",
   "id": "123456",
   "metadata": {},
   "source": [
    "# What to expect in this chapter"
   ]
  },
  {
   "attachments": {},
   "cell_type": "markdown",
   "id": "123456",
   "metadata": {},
   "source": [
    "# 1 The for iterator"
   ]
  },
  {
   "attachments": {},
   "cell_type": "markdown",
   "id": "123456",
   "metadata": {},
   "source": [
    "## 1.1 for with a list"
   ]
  },
  {
   "cell_type": "code",
   "execution_count": 7,
   "id": "204204e2",
   "metadata": {},
   "outputs": [
    {
     "name": "stdout",
     "output_type": "stream",
     "text": [
      "Natasha Romanoff is a Marvel superhero!\n",
      "Tony Stark is a Marvel superhero!\n",
      "Stephen Strange is a Marvel superhero!\n"
     ]
    }
   ],
   "source": [
    "real_names = [\"Natasha Romanoff\", \"Tony Stark\", \"Stephen Strange\"]\n",
    "for name in real_names:\n",
    "    print(f\"{name} is a Marvel superhero!\")"
   ]
  },
  {
   "cell_type": "code",
   "execution_count": 37,
   "id": "191abc57",
   "metadata": {},
   "outputs": [
    {
     "name": "stdout",
     "output_type": "stream",
     "text": [
      "Natasha Romanoff\n",
      "Tony Stark\n",
      "Stephen Strange\n",
      "Peter Parker\n"
     ]
    }
   ],
   "source": [
    "for name in real_names + ['Peter Parker']:\n",
    "    print(name)"
   ]
  },
  {
   "cell_type": "code",
   "execution_count": 10,
   "id": "3ab9700a",
   "metadata": {},
   "outputs": [
    {
     "name": "stdout",
     "output_type": "stream",
     "text": [
      "--------------------\n",
      "1 Natasha Romanoff\n",
      "--------------------\n",
      "1 Tony Stark\n",
      "--------------------\n",
      "1 Stephen Strange\n"
     ]
    }
   ],
   "source": [
    "for name in real_names:\n",
    "    print('--'*10)\n",
    "    print(1,name)\n",
    "    # print('--', 10)"
   ]
  },
  {
   "cell_type": "code",
   "execution_count": 11,
   "id": "cfbc70de",
   "metadata": {},
   "outputs": [
    {
     "name": "stdout",
     "output_type": "stream",
     "text": [
      "1 Natasha Romanoff\n",
      "2 Tony Stark\n",
      "3 Stephen Strange\n"
     ]
    }
   ],
   "source": [
    "count = 0\n",
    "for name in real_names: \n",
    "    count += 1\n",
    "    print(count,name)"
   ]
  },
  {
   "cell_type": "code",
   "execution_count": null,
   "id": "dcae088d",
   "metadata": {},
   "outputs": [
    {
     "name": "stdout",
     "output_type": "stream",
     "text": [
      "1 Natasha Romanoff\n",
      "1 Tony Stark\n",
      "1 Stephen Strange\n"
     ]
    }
   ],
   "source": [
    "for name in real_names:\n",
    "    count = 0\n",
    "    count += 1\n",
    "    print(count,name)           #This method doesn't work as it constantly resets to count = 0. \n",
    "                                # The location of the code matters"
   ]
  },
  {
   "cell_type": "code",
   "execution_count": 56,
   "id": "fc316b20",
   "metadata": {},
   "outputs": [
    {
     "name": "stdout",
     "output_type": "stream",
     "text": [
      "1 Natasha Romanoff\n",
      "2 Tony Stark\n",
      "3 Stephen Strange\n"
     ]
    }
   ],
   "source": [
    "count = 0\n",
    "for name in real_names:\n",
    "    \n",
    "    count += 1\n",
    "    print(count,name)     "
   ]
  },
  {
   "cell_type": "code",
   "execution_count": 20,
   "id": "821d769b",
   "metadata": {},
   "outputs": [
    {
     "data": {
      "text/plain": [
       "['Natasha', 'Romanoff']"
      ]
     },
     "execution_count": 20,
     "metadata": {},
     "output_type": "execute_result"
    }
   ],
   "source": [
    "real_names[0].split()"
   ]
  },
  {
   "cell_type": "code",
   "execution_count": null,
   "id": "46bc4303",
   "metadata": {},
   "outputs": [
    {
     "name": "stdout",
     "output_type": "stream",
     "text": [
      "1 Natasha\n",
      "1 Romanoff\n",
      "1 ROMANOFF\n",
      "2 Tony\n",
      "2 Stark\n",
      "2 STARK\n",
      "3 Stephen\n",
      "3 Strange\n",
      "3 STRANGE\n"
     ]
    }
   ],
   "source": [
    "for count, name in enumerate(real_names, start=1):\n",
    "    first_name, last_name = name.split()                #splits the name into two and sets the variables accordingly\n",
    "    print(count,first_name)\n",
    "    print(count, last_name)\n",
    "    print(count,last_name.upper())"
   ]
  },
  {
   "cell_type": "code",
   "execution_count": 29,
   "id": "4b688300",
   "metadata": {},
   "outputs": [
    {
     "name": "stdout",
     "output_type": "stream",
     "text": [
      "1. Romanoff **ROMANOFF**\n",
      "2. Stark **STARK**\n",
      "3. Strange **STRANGE**\n",
      "\n"
     ]
    }
   ],
   "source": [
    "all_names = '' \n",
    "for count, name in enumerate(real_names, start=1):\n",
    "    first_name, last_name = name.split()\n",
    "    all_names += f'{count}. {last_name} **{last_name.upper()}**\\n' #Add spaces between code to add spaces when printed\n",
    "\n",
    "print(all_names)"
   ]
  },
  {
   "cell_type": "markdown",
   "id": "2e8b77e7",
   "metadata": {},
   "source": [
    "1. Romanoff **ROMANOFF**\n",
    "1. Stark **STARK**\n",
    "1. Strange **STRANGE**"
   ]
  },
  {
   "cell_type": "code",
   "execution_count": null,
   "id": "47833a36",
   "metadata": {},
   "outputs": [
    {
     "name": "stdout",
     "output_type": "stream",
     "text": [
      "10000 Natasha Romanoff\n",
      "10001 Tony Stark\n",
      "10002 Stephen Strange\n"
     ]
    }
   ],
   "source": [
    "for count, name in enumerate(real_names, start=10000):\n",
    "    print(count, name)"
   ]
  },
  {
   "cell_type": "code",
   "execution_count": 33,
   "id": "acb7b2f3",
   "metadata": {},
   "outputs": [
    {
     "name": "stdout",
     "output_type": "stream",
     "text": [
      "1 Natasha Romanoff\n",
      "2 Tony Stark\n",
      "3 Stephen Strange\n"
     ]
    }
   ],
   "source": [
    "for i in [0,1,2]:\n",
    "    print(i+1, real_names[i])   #Another way to count/index"
   ]
  },
  {
   "cell_type": "code",
   "execution_count": 35,
   "id": "8d2a4cd4",
   "metadata": {},
   "outputs": [
    {
     "data": {
      "text/plain": [
       "range(0, 3)"
      ]
     },
     "execution_count": 35,
     "metadata": {},
     "output_type": "execute_result"
    }
   ],
   "source": [
    "range(3)"
   ]
  },
  {
   "cell_type": "code",
   "execution_count": 36,
   "id": "0974558a",
   "metadata": {},
   "outputs": [
    {
     "data": {
      "text/plain": [
       "[0, 1, 2, 3, 4]"
      ]
     },
     "execution_count": 36,
     "metadata": {},
     "output_type": "execute_result"
    }
   ],
   "source": [
    "list(range(5))"
   ]
  },
  {
   "cell_type": "code",
   "execution_count": 34,
   "id": "d8c1a038",
   "metadata": {},
   "outputs": [
    {
     "name": "stdout",
     "output_type": "stream",
     "text": [
      "1 Natasha Romanoff\n",
      "2 Tony Stark\n",
      "3 Stephen Strange\n"
     ]
    }
   ],
   "source": [
    "for i in range(3): \n",
    "    print(i+1, real_names[i])"
   ]
  },
  {
   "cell_type": "code",
   "execution_count": 38,
   "id": "ad07a809",
   "metadata": {},
   "outputs": [
    {
     "data": {
      "text/plain": [
       "3"
      ]
     },
     "execution_count": 38,
     "metadata": {},
     "output_type": "execute_result"
    }
   ],
   "source": [
    "len(real_names)"
   ]
  },
  {
   "cell_type": "code",
   "execution_count": 39,
   "id": "438a1649",
   "metadata": {},
   "outputs": [],
   "source": [
    "real_names = [\"Natasha Romanoff\", 'Tony Stark', 'Stephen Strange'] + ['Peter Parker', 'Johnny Storm']"
   ]
  },
  {
   "cell_type": "code",
   "execution_count": 41,
   "id": "5e680f78",
   "metadata": {},
   "outputs": [
    {
     "name": "stdout",
     "output_type": "stream",
     "text": [
      "1 Natasha Romanoff\n",
      "2 Tony Stark\n",
      "3 Stephen Strange\n",
      "4 Peter Parker\n",
      "5 Johnny Storm\n"
     ]
    }
   ],
   "source": [
    "for i in range(len(real_names)):                #len(real_names) is useful if data is being added,so no need to change range code\n",
    "    print(i+1, real_names[i])"
   ]
  },
  {
   "attachments": {},
   "cell_type": "markdown",
   "id": "123456",
   "metadata": {},
   "source": [
    "## 1.2 for with enumerate"
   ]
  },
  {
   "cell_type": "code",
   "execution_count": 43,
   "id": "8aef1538",
   "metadata": {},
   "outputs": [],
   "source": [
    "super_names = [\"Black Widow\", \"Iron Man\", \"Doctor Strange\"]\n",
    "real_names = [\"Natasha Romanoff\", \"Tony Stark\", \"Stephen Strange\"]"
   ]
  },
  {
   "cell_type": "code",
   "execution_count": 44,
   "id": "223ddf0a",
   "metadata": {},
   "outputs": [
    {
     "name": "stdout",
     "output_type": "stream",
     "text": [
      "1 Black Widow is Natasha Romanoff\n",
      "2 Iron Man is Tony Stark\n",
      "3 Doctor Strange is Stephen Strange\n"
     ]
    }
   ],
   "source": [
    "for i in range(len(real_names)):\n",
    "    print(i+1,f'{super_names[i]} is {real_names[i]}')"
   ]
  },
  {
   "cell_type": "code",
   "execution_count": 46,
   "id": "de2f361f",
   "metadata": {},
   "outputs": [
    {
     "name": "stdout",
     "output_type": "stream",
     "text": [
      "Natasha Romanoff Black Widow\n",
      "Tony Stark Iron Man\n",
      "Stephen Strange Doctor Strange\n"
     ]
    }
   ],
   "source": [
    "for real_name, super_name in zip(real_names,super_names):       #zips the two names together\n",
    "    print(real_name,super_name)"
   ]
  },
  {
   "cell_type": "code",
   "execution_count": null,
   "id": "fcaf52da",
   "metadata": {},
   "outputs": [
    {
     "name": "stdout",
     "output_type": "stream",
     "text": [
      "0: Natasha Romanoff is a Marvel superhero!\n",
      "1: Tony Stark is a Marvel superhero!\n",
      "2: Stephen Strange is a Marvel superhero!\n"
     ]
    }
   ],
   "source": [
    "for count, name in enumerate(real_names):\n",
    "    print(f'{count}: {name} is a Marvel superhero!')"
   ]
  },
  {
   "cell_type": "code",
   "execution_count": 20,
   "id": "882d133c",
   "metadata": {},
   "outputs": [
    {
     "name": "stdout",
     "output_type": "stream",
     "text": [
      "Natasha Romanoff is Black Widow!\n",
      "Tony Stark is Iron Man!\n",
      "Stephen Strange is Doctor Strange!\n"
     ]
    }
   ],
   "source": [
    "for index, name in enumerate(real_names):\n",
    "    superhero_name = super_names[index]\n",
    "    print(f'{name} is {superhero_name}!')"
   ]
  },
  {
   "cell_type": "code",
   "execution_count": 21,
   "id": "08ba5529",
   "metadata": {},
   "outputs": [
    {
     "name": "stdout",
     "output_type": "stream",
     "text": [
      "100: Natasha Romanoff is a Marvel superhero!\n",
      "101: Tony Stark is a Marvel superhero!\n",
      "102: Stephen Strange is a Marvel superhero!\n"
     ]
    }
   ],
   "source": [
    "for count, name in enumerate(real_names, 100):\n",
    "    print(f'{count}: {name} is a Marvel superhero!')"
   ]
  },
  {
   "attachments": {},
   "cell_type": "markdown",
   "id": "123456",
   "metadata": {},
   "source": [
    "## 1.3 for with range"
   ]
  },
  {
   "cell_type": "code",
   "execution_count": 48,
   "id": "3c654726",
   "metadata": {},
   "outputs": [
    {
     "name": "stdout",
     "output_type": "stream",
     "text": [
      "0\n",
      "1\n",
      "2\n",
      "3\n",
      "4\n"
     ]
    }
   ],
   "source": [
    "for i in range(5):          #prints 0 to 4\n",
    "    print(i)"
   ]
  },
  {
   "cell_type": "code",
   "execution_count": null,
   "id": "587713d6",
   "metadata": {},
   "outputs": [
    {
     "name": "stdout",
     "output_type": "stream",
     "text": [
      "5\n",
      "6\n",
      "7\n",
      "8\n",
      "9\n"
     ]
    }
   ],
   "source": [
    "for i in range(5,10): #doesn't include the 2nd number\n",
    "    print(i)\n"
   ]
  },
  {
   "cell_type": "code",
   "execution_count": 54,
   "id": "7bfc290c",
   "metadata": {},
   "outputs": [
    {
     "name": "stdout",
     "output_type": "stream",
     "text": [
      "2\n",
      "4\n",
      "6\n",
      "8\n"
     ]
    }
   ],
   "source": [
    "for i in range(2,10 , 2):\n",
    "    print(i)"
   ]
  },
  {
   "cell_type": "code",
   "execution_count": null,
   "id": "2bfc1681",
   "metadata": {},
   "outputs": [],
   "source": []
  },
  {
   "attachments": {},
   "cell_type": "markdown",
   "id": "123456",
   "metadata": {},
   "source": [
    "# 2 while"
   ]
  },
  {
   "cell_type": "code",
   "execution_count": 55,
   "id": "a4cb6f0c",
   "metadata": {},
   "outputs": [
    {
     "name": "stdout",
     "output_type": "stream",
     "text": [
      "0\n",
      "1\n",
      "2\n",
      "3\n",
      "4\n",
      "5\n",
      "6\n",
      "7\n",
      "8\n",
      "9\n"
     ]
    }
   ],
   "source": [
    "i = 0\n",
    "while i<10:\n",
    "    print(i)\n",
    "    i += 1"
   ]
  },
  {
   "cell_type": "code",
   "execution_count": 57,
   "id": "7c25434b",
   "metadata": {},
   "outputs": [],
   "source": [
    "import numpy as np\n"
   ]
  },
  {
   "cell_type": "code",
   "execution_count": 66,
   "id": "5284a61b",
   "metadata": {},
   "outputs": [
    {
     "name": "stdout",
     "output_type": "stream",
     "text": [
      "x*180/np.pi=57.2957795131 np.sin(x)=0.84147098 1.55740772 False\n",
      "x*180/np.pi=28.6478897565 np.sin(x)=0.47942554 0.54630249 False\n",
      "x*180/np.pi=14.3239448783 np.sin(x)=0.24740396 0.25534192 False\n",
      "x*180/np.pi=7.1619724391 np.sin(x)=0.12467473 0.12565514 False\n",
      "x*180/np.pi=3.5809862196 np.sin(x)=0.06245932 0.06258151 False\n",
      "x*180/np.pi=1.7904931098 np.sin(x)=0.03124491 0.03126018 False\n",
      "x*180/np.pi=0.8952465549 np.sin(x)=0.01562436 0.01562627 False\n",
      "x*180/np.pi=0.4476232774 np.sin(x)=0.00781242 0.00781266 False\n",
      "x*180/np.pi=0.2238116387 np.sin(x)=0.00390624 0.00390627 True\n",
      "x*180/np.pi=0.1119058194 np.sin(x)=0.00195312 0.00195313 True\n",
      "x*180/np.pi=0.0559529097 np.sin(x)=0.00097656 0.00097656 True\n",
      "x*180/np.pi=0.0279764548 np.sin(x)=0.00048828 0.00048828 True\n",
      "x*180/np.pi=0.0139882274 np.sin(x)=0.00024414 0.00024414 True\n",
      "x*180/np.pi=0.0069941137 np.sin(x)=0.00012207 0.00012207 True\n",
      "x*180/np.pi=0.0034970569 np.sin(x)=0.00006104 0.00006104 True\n",
      "x*180/np.pi=0.0017485284 np.sin(x)=0.00003052 0.00003052 True\n",
      "x*180/np.pi=0.0008742642 np.sin(x)=0.00001526 0.00001526 True\n"
     ]
    }
   ],
   "source": [
    "x=1\n",
    "while x>1E-5:\n",
    "    print(f'{x*180/np.pi=:.10f}', f'{np.sin(x)=:.8f}', f'{np.tan(x):.8f}', np.isclose(np.sin(x),np.tan(x)))\n",
    "    x/=2"
   ]
  }
 ],
 "metadata": {
  "kernelspec": {
   "display_name": "base",
   "language": "python",
   "name": "python3"
  },
  "language_info": {
   "codemirror_mode": {
    "name": "ipython",
    "version": 3
   },
   "file_extension": ".py",
   "mimetype": "text/x-python",
   "name": "python",
   "nbconvert_exporter": "python",
   "pygments_lexer": "ipython3",
   "version": "3.13.5"
  },
  "toc": {
   "base_numbering": 1,
   "nav_menu": {},
   "number_sections": true,
   "sideBar": true,
   "skip_h1_title": false,
   "title_cell": "Table of Contents",
   "title_sidebar": "Contents",
   "toc_cell": false,
   "toc_position": {},
   "toc_section_display": true,
   "toc_window_display": false
  }
 },
 "nbformat": 4,
 "nbformat_minor": 5
}
