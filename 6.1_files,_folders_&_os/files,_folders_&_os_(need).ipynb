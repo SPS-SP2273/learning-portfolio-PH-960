{
 "cells": [
  {
   "attachments": {},
   "cell_type": "markdown",
   "id": "123456",
   "metadata": {},
   "source": [
    "<div style=\"text-align:left;font-size:2em\"><span style=\"font-weight:bolder;font-size:1.25em\">SP2273 | Learning Portfolio</span><br><br><span style=\"font-weight:bold;color:darkred\">Files, Folders & OS (Need)</span></div>"
   ]
  },
  {
   "attachments": {},
   "cell_type": "markdown",
   "id": "123456",
   "metadata": {},
   "source": [
    "# What to expect in this chapter"
   ]
  },
  {
   "attachments": {},
   "cell_type": "markdown",
   "id": "123456",
   "metadata": {},
   "source": [
    "# 1 Important concepts"
   ]
  },
  {
   "cell_type": "code",
   "execution_count": 1,
   "id": "e42fdeed",
   "metadata": {},
   "outputs": [],
   "source": [
    "import os\n",
    "import glob\n",
    "import shutil\n",
    "import numpy as np"
   ]
  },
  {
   "attachments": {},
   "cell_type": "markdown",
   "id": "123456",
   "metadata": {},
   "source": [
    "## 1.1 Path"
   ]
  },
  {
   "attachments": {},
   "cell_type": "markdown",
   "id": "123456",
   "metadata": {},
   "source": [
    "## 1.2 More about relative paths"
   ]
  },
  {
   "attachments": {},
   "cell_type": "markdown",
   "id": "123456",
   "metadata": {},
   "source": [
    "### macOS or Linux"
   ]
  },
  {
   "cell_type": "markdown",
   "id": "123456",
   "metadata": {},
   "source": [
    "**Mac**\n",
    "- /Users/user/Desktop\n",
    "\n",
    "**Desktop**\n",
    "- C:\\\\Users\\User\\Desktop\\data-01.txt"
   ]
  },
  {
   "attachments": {},
   "cell_type": "markdown",
   "id": "123456",
   "metadata": {},
   "source": [
    "## 1.3 Path separator"
   ]
  },
  {
   "cell_type": "code",
   "execution_count": 11,
   "id": "18e2b79f",
   "metadata": {},
   "outputs": [
    {
     "name": "stdout",
     "output_type": "stream",
     "text": [
      "\\\n"
     ]
    }
   ],
   "source": [
    "print(os.path.sep)"
   ]
  },
  {
   "cell_type": "code",
   "execution_count": null,
   "id": "fb2c640b",
   "metadata": {},
   "outputs": [
    {
     "data": {
      "text/plain": [
       "'A\\\\A1\\\\B1'"
      ]
     },
     "execution_count": 13,
     "metadata": {},
     "output_type": "execute_result"
    }
   ],
   "source": [
    "'A' + os.path.sep + 'A1' + os.path.sep + 'B1' "
   ]
  },
  {
   "cell_type": "code",
   "execution_count": 14,
   "id": "d9a30f42",
   "metadata": {},
   "outputs": [
    {
     "data": {
      "text/plain": [
       "'A\\\\A1\\\\B1'"
      ]
     },
     "execution_count": 14,
     "metadata": {},
     "output_type": "execute_result"
    }
   ],
   "source": [
    "os.path.join('A','A1','B1')"
   ]
  },
  {
   "attachments": {},
   "cell_type": "markdown",
   "id": "123456",
   "metadata": {},
   "source": [
    "## 1.4 Text files vs. Binary files"
   ]
  },
  {
   "cell_type": "code",
   "execution_count": null,
   "id": "72ceb1c4",
   "metadata": {},
   "outputs": [],
   "source": [
    "np.loadtxt('spectrum-01.txt',skiprows=2)                # skip 2 rows as first two rows are not data (text instead)"
   ]
  },
  {
   "cell_type": "code",
   "execution_count": null,
   "id": "2f26ad95",
   "metadata": {},
   "outputs": [
    {
     "ename": "FileNotFoundError",
     "evalue": "[Errno 2] No such file or directory: 'spectrum-01.txt'",
     "output_type": "error",
     "traceback": [
      "\u001b[31m---------------------------------------------------------------------------\u001b[39m",
      "\u001b[31mFileNotFoundError\u001b[39m                         Traceback (most recent call last)",
      "\u001b[36mCell\u001b[39m\u001b[36m \u001b[39m\u001b[32mIn[5]\u001b[39m\u001b[32m, line 1\u001b[39m\n\u001b[32m----> \u001b[39m\u001b[32m1\u001b[39m file = \u001b[38;5;28;43mopen\u001b[39;49m\u001b[43m(\u001b[49m\u001b[33;43m'\u001b[39;49m\u001b[33;43mspectrum-01.txt\u001b[39;49m\u001b[33;43m'\u001b[39;49m\u001b[43m)\u001b[49m\n\u001b[32m      2\u001b[39m file_contents = file.read()\n",
      "\u001b[36mFile \u001b[39m\u001b[32mc:\\Users\\User\\miniconda3\\Lib\\site-packages\\IPython\\core\\interactiveshell.py:343\u001b[39m, in \u001b[36m_modified_open\u001b[39m\u001b[34m(file, *args, **kwargs)\u001b[39m\n\u001b[32m    336\u001b[39m \u001b[38;5;28;01mif\u001b[39;00m file \u001b[38;5;129;01min\u001b[39;00m {\u001b[32m0\u001b[39m, \u001b[32m1\u001b[39m, \u001b[32m2\u001b[39m}:\n\u001b[32m    337\u001b[39m     \u001b[38;5;28;01mraise\u001b[39;00m \u001b[38;5;167;01mValueError\u001b[39;00m(\n\u001b[32m    338\u001b[39m         \u001b[33mf\u001b[39m\u001b[33m\"\u001b[39m\u001b[33mIPython won\u001b[39m\u001b[33m'\u001b[39m\u001b[33mt let you open fd=\u001b[39m\u001b[38;5;132;01m{\u001b[39;00mfile\u001b[38;5;132;01m}\u001b[39;00m\u001b[33m by default \u001b[39m\u001b[33m\"\u001b[39m\n\u001b[32m    339\u001b[39m         \u001b[33m\"\u001b[39m\u001b[33mas it is likely to crash IPython. If you know what you are doing, \u001b[39m\u001b[33m\"\u001b[39m\n\u001b[32m    340\u001b[39m         \u001b[33m\"\u001b[39m\u001b[33myou can use builtins\u001b[39m\u001b[33m'\u001b[39m\u001b[33m open.\u001b[39m\u001b[33m\"\u001b[39m\n\u001b[32m    341\u001b[39m     )\n\u001b[32m--> \u001b[39m\u001b[32m343\u001b[39m \u001b[38;5;28;01mreturn\u001b[39;00m \u001b[43mio_open\u001b[49m\u001b[43m(\u001b[49m\u001b[43mfile\u001b[49m\u001b[43m,\u001b[49m\u001b[43m \u001b[49m\u001b[43m*\u001b[49m\u001b[43margs\u001b[49m\u001b[43m,\u001b[49m\u001b[43m \u001b[49m\u001b[43m*\u001b[49m\u001b[43m*\u001b[49m\u001b[43mkwargs\u001b[49m\u001b[43m)\u001b[49m\n",
      "\u001b[31mFileNotFoundError\u001b[39m: [Errno 2] No such file or directory: 'spectrum-01.txt'"
     ]
    }
   ],
   "source": [
    "file = open('spectrum-01.txt')\n",
    "file_contents = file.read()\n",
    "print(file_contents)\n",
    "file.close()                                  # if not closed, it could corrupt the file"
   ]
  },
  {
   "cell_type": "code",
   "execution_count": null,
   "id": "1d55cd05",
   "metadata": {},
   "outputs": [],
   "source": [
    "with open('spectrum-01.txt') as  f:                                 # f will only exist within this code block\n",
    "    file_contents = f.read()\n",
    "    print('I have finished reading the file')\n",
    "print(file_contents)"
   ]
  },
  {
   "attachments": {},
   "cell_type": "markdown",
   "id": "123456",
   "metadata": {},
   "source": [
    "## 1.5 Extensions"
   ]
  },
  {
   "attachments": {},
   "cell_type": "markdown",
   "id": "123456",
   "metadata": {},
   "source": [
    "# 2 Opening and closing files"
   ]
  },
  {
   "attachments": {},
   "cell_type": "markdown",
   "id": "123456",
   "metadata": {},
   "source": [
    "## 2.1 Reading data"
   ]
  },
  {
   "attachments": {},
   "cell_type": "markdown",
   "id": "123456",
   "metadata": {},
   "source": [
    "## 2.2 Writing data"
   ]
  },
  {
   "attachments": {},
   "cell_type": "markdown",
   "id": "123456",
   "metadata": {},
   "source": [
    "### Writing to a file in one go"
   ]
  },
  {
   "cell_type": "code",
   "execution_count": null,
   "id": "123456",
   "metadata": {},
   "outputs": [],
   "source": [
    "with open('wooo.txt','w') as file:        \n",
    "    # 'write' overrides all original text in the file, use append to add text but not remove existing text\n",
    "    file.write('This is new')\n"
   ]
  },
  {
   "cell_type": "code",
   "execution_count": 9,
   "id": "d78007aa",
   "metadata": {},
   "outputs": [
    {
     "name": "stdout",
     "output_type": "stream",
     "text": [
      "Dear Frank, \n",
      "\n",
      "test\n",
      "\n",
      "Best,\n",
      "Me\n",
      "Dear Sally, \n",
      "\n",
      "test\n",
      "\n",
      "Best,\n",
      "Me\n",
      "Dear Louise, \n",
      "\n",
      "test\n",
      "\n",
      "Best,\n",
      "Me\n"
     ]
    }
   ],
   "source": [
    "people = ['Frank', 'Sally', 'Louise']\n",
    "with open('template.txt','r') as file:\n",
    "    template_text = file.read()\n",
    "\n",
    "for name in people:\n",
    "    letter_text = template_text.replace('XXX', name)\n",
    "    print(letter_text)"
   ]
  },
  {
   "cell_type": "code",
   "execution_count": 16,
   "id": "cf4597c3",
   "metadata": {},
   "outputs": [],
   "source": [
    "with open('template.txt','r') as file:\n",
    "    template_text = file.read()"
   ]
  },
  {
   "cell_type": "code",
   "execution_count": 17,
   "id": "7d3fc31c",
   "metadata": {},
   "outputs": [
    {
     "name": "stdout",
     "output_type": "stream",
     "text": [
      "I have finished with  letter_for_frank.txt\n",
      "I have finished with  letter_for_sally.txt\n",
      "I have finished with  letter_for_louise.txt\n",
      "I have finished with  letter_for_bob.txt\n"
     ]
    }
   ],
   "source": [
    "\n",
    "\n",
    "people = ['Frank', 'Sally', 'Louise', 'Bob']\n",
    "\n",
    "for name in people:\n",
    "    letter_text = template_text.replace('XXX', name)\n",
    "    filename = f'letter_for_{name.lower()}.txt'\n",
    "\n",
    "    with open(filename,'w') as file:\n",
    "        file.write(letter_text)\n",
    "    print('I have finished with ', filename)"
   ]
  },
  {
   "attachments": {},
   "cell_type": "markdown",
   "id": "123456",
   "metadata": {},
   "source": [
    "### Writing to a file, line by line"
   ]
  },
  {
   "cell_type": "code",
   "execution_count": null,
   "id": "123456",
   "metadata": {},
   "outputs": [],
   "source": [
    "\n",
    "# Your code here\n"
   ]
  },
  {
   "attachments": {},
   "cell_type": "markdown",
   "id": "123456",
   "metadata": {},
   "source": [
    "# 3 Some useful packages"
   ]
  },
  {
   "attachments": {},
   "cell_type": "markdown",
   "id": "123456",
   "metadata": {},
   "source": [
    "# 4 OS safe paths"
   ]
  },
  {
   "attachments": {},
   "cell_type": "markdown",
   "id": "123456",
   "metadata": {},
   "source": [
    "# 5 Folders"
   ]
  },
  {
   "cell_type": "markdown",
   "id": "45917653",
   "metadata": {},
   "source": []
  },
  {
   "cell_type": "code",
   "execution_count": 14,
   "id": "42b68982",
   "metadata": {},
   "outputs": [],
   "source": [
    "os.mkdir('LETTERS')"
   ]
  },
  {
   "cell_type": "code",
   "execution_count": null,
   "id": "3e01041a",
   "metadata": {},
   "outputs": [],
   "source": [
    "filename = 'letter_for_bob.txt'\n",
    "destination = os.path.join('LETTERS',filename)              \n",
    "os.rename(filename,destination)                                 # moves \"letter_for_bob.txt\" to 'LETTERS' folder"
   ]
  },
  {
   "cell_type": "code",
   "execution_count": 21,
   "id": "716a880a",
   "metadata": {},
   "outputs": [
    {
     "data": {
      "text/plain": [
       "['LETTERS',\n",
       " 'letter_for_frank.txt',\n",
       " 'letter_for_louise.txt',\n",
       " 'letter_for_sally.txt']"
      ]
     },
     "execution_count": 21,
     "metadata": {},
     "output_type": "execute_result"
    }
   ],
   "source": [
    "glob.glob('letter*')"
   ]
  },
  {
   "attachments": {},
   "cell_type": "markdown",
   "id": "123456",
   "metadata": {},
   "source": [
    "## 5.1 Creating folders"
   ]
  },
  {
   "attachments": {},
   "cell_type": "markdown",
   "id": "123456",
   "metadata": {},
   "source": [
    "## 5.2 Checking for existence"
   ]
  },
  {
   "attachments": {},
   "cell_type": "markdown",
   "id": "123456",
   "metadata": {},
   "source": [
    "### Using try-except"
   ]
  },
  {
   "cell_type": "code",
   "execution_count": null,
   "id": "123456",
   "metadata": {},
   "outputs": [],
   "source": [
    "\n",
    "# Your code here\n"
   ]
  },
  {
   "attachments": {},
   "cell_type": "markdown",
   "id": "123456",
   "metadata": {},
   "source": [
    "### Using os.path.exists()"
   ]
  },
  {
   "cell_type": "code",
   "execution_count": null,
   "id": "123456",
   "metadata": {},
   "outputs": [],
   "source": [
    "\n",
    "# Your code here\n"
   ]
  },
  {
   "attachments": {},
   "cell_type": "markdown",
   "id": "123456",
   "metadata": {},
   "source": [
    "## 5.3 Copying files"
   ]
  },
  {
   "attachments": {},
   "cell_type": "markdown",
   "id": "123456",
   "metadata": {},
   "source": [
    "# 6 Listing and looking for files"
   ]
  },
  {
   "attachments": {},
   "cell_type": "markdown",
   "id": "123456",
   "metadata": {},
   "source": [
    "# 7 Extracting file info"
   ]
  },
  {
   "cell_type": "code",
   "execution_count": null,
   "id": "0053ad4b",
   "metadata": {},
   "outputs": [
    {
     "name": "stdout",
     "output_type": "stream",
     "text": [
      "people/Ringo/imgs/sp2273_logo.png people/Ringo/imgs/sp2273_logo\n"
     ]
    }
   ],
   "source": [
    "path = 'people/Ringo/imgs/sp2273_logo.png'\n",
    "filename = path.split(os.path.sep)[-1]\n",
    "extension = filename.split('.')[-1]\n",
    "print(filename, extension)"
   ]
  },
  {
   "cell_type": "code",
   "execution_count": 9,
   "id": "d33e0d84",
   "metadata": {},
   "outputs": [
    {
     "name": "stdout",
     "output_type": "stream",
     "text": [
      "sp2273_logo.png\n"
     ]
    }
   ],
   "source": [
    "name = os.path.split(path) [-1]\n",
    "print(name)"
   ]
  },
  {
   "cell_type": "code",
   "execution_count": 4,
   "id": "9c3d6db5",
   "metadata": {},
   "outputs": [
    {
     "name": "stdout",
     "output_type": "stream",
     "text": [
      "aug-01_melbourne.png\n",
      "os.collaboration-exercise-data\\08-01_melbourne.png\n"
     ]
    }
   ],
   "source": [
    "month = {\n",
    "'jan': '01', 'feb': '02', 'mar': '03',\n",
    "'apr': '04', 'may': '05', 'jun': '06',\n",
    "'jul': '07', 'aug': '08', 'sep': '09',\n",
    "'oct': '10', 'nov': '11', 'dec': '12'\n",
    "}\n",
    "\n",
    "\n",
    "def rename_my_file(old_file_name):\n",
    "    old_file_name = old_file_name.split(sep = '-')              # separates 'oct' from '08' by specifying to split at the hyphen symbol\n",
    "    for key in month:\n",
    "        if old_file_name[0] == key:                                      # to select the corresponding key   \n",
    "            old_file_name[0] = month[key]\n",
    "            break                                                   # to stop the loop once the name has been correctly changed\n",
    "        \n",
    "    new_file_name = '-'.join(old_file_name)                               # to join '10' to '08' with a hyphen\n",
    "    return new_file_name\n",
    "\n",
    "\n",
    "old_directory = 'os.collaboration-exercise-data\\\\aug-01_melbourne.png'\n",
    "file_directory = os.path.split(old_directory)[0]\n",
    "\n",
    "name = os.path.split(old_directory)[-1]\n",
    "print(name)\n",
    "novel_file_name = rename_my_file(name)\n",
    "new_directory = os.path.join(file_directory, novel_file_name)\n",
    "print(new_directory)\n"
   ]
  },
  {
   "attachments": {},
   "cell_type": "markdown",
   "id": "123456",
   "metadata": {},
   "source": [
    "# 8 Deleting stuff"
   ]
  }
 ],
 "metadata": {
  "kernelspec": {
   "display_name": "base",
   "language": "python",
   "name": "python3"
  },
  "language_info": {
   "codemirror_mode": {
    "name": "ipython",
    "version": 3
   },
   "file_extension": ".py",
   "mimetype": "text/x-python",
   "name": "python",
   "nbconvert_exporter": "python",
   "pygments_lexer": "ipython3",
   "version": "3.13.5"
  },
  "toc": {
   "base_numbering": 1,
   "nav_menu": {},
   "number_sections": true,
   "sideBar": true,
   "skip_h1_title": false,
   "title_cell": "Table of Contents",
   "title_sidebar": "Contents",
   "toc_cell": false,
   "toc_position": {},
   "toc_section_display": true,
   "toc_window_display": false
  }
 },
 "nbformat": 4,
 "nbformat_minor": 5
}
