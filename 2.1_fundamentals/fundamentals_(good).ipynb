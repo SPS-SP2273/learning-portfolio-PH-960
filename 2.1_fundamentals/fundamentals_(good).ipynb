{
 "cells": [
  {
   "attachments": {},
   "cell_type": "markdown",
   "id": "123456",
   "metadata": {},
   "source": [
    "<div style=\"text-align:left;font-size:2em\"><span style=\"font-weight:bolder;font-size:1.25em\">SP2273 | Learning Portfolio</span><br><br><span style=\"font-weight:bold;color:darkred\">Fundamentals (Good)</span></div>"
   ]
  },
  {
   "attachments": {},
   "cell_type": "markdown",
   "id": "97f850c5",
   "metadata": {},
   "source": [
    "# What to expect in this chapter"
   ]
  },
  {
   "attachments": {},
   "cell_type": "markdown",
   "id": "f3621307",
   "metadata": {},
   "source": [
    "# 1 There is more to if"
   ]
  },
  {
   "cell_type": "code",
   "execution_count": 1,
   "id": "344f4063-2d98-4446-95c9-eb80df9edc42",
   "metadata": {},
   "outputs": [
    {
     "name": "stdout",
     "output_type": "stream",
     "text": [
      "Hello Batman!\n"
     ]
    }
   ],
   "source": [
    "name = 'Batman'\n",
    "\n",
    "if name == 'Batman':\n",
    "    print('Hello Batman!')\n",
    "elif name == 'Robin':\n",
    "    print('Hello Sidekick1!')\n",
    "elif name == 'Tom':\n",
    "    print('Hello Sidekick2!')\n",
    "elif name == 'Jerry':\n",
    "    print('Hello Sidekick3!')\n",
    "elif name == 'Perry':\n",
    "    print('Hello Sidekick4!')\n",
    "else:\n",
    "    print('Hello World!')"
   ]
  },
  {
   "attachments": {},
   "cell_type": "markdown",
   "id": "c603713f",
   "metadata": {},
   "source": [
    "# 2 Asking questions"
   ]
  },
  {
   "cell_type": "code",
   "execution_count": 8,
   "id": "5a206ec3-8c05-4f53-b9e0-c7aaf396c879",
   "metadata": {},
   "outputs": [
    {
     "data": {
      "text/plain": [
       "True"
      ]
     },
     "execution_count": 8,
     "metadata": {},
     "output_type": "execute_result"
    }
   ],
   "source": [
    "fruits = ['apple', 'banana', 'pineapple', 'jackfruit']\n",
    "vegetables = ['celery', 'potato', 'broccoli', 'kale']\n",
    "('apple' in fruits) or ('kale' in vegetables)\n"
   ]
  },
  {
   "cell_type": "code",
   "execution_count": 6,
   "id": "c24c61ab-12bc-4a06-ba6e-bc380700d9ce",
   "metadata": {},
   "outputs": [
    {
     "data": {
      "text/plain": [
       "False"
      ]
     },
     "execution_count": 6,
     "metadata": {},
     "output_type": "execute_result"
    }
   ],
   "source": [
    "fruits = ['apple', 'banana', 'pineapple', 'jackfruit']\n",
    "vegetables = ['celery', 'potato', 'broccoli', 'kale']\n",
    "\n",
    "('apple' in fruits) and ('kale' in vegetables)\n"
   ]
  },
  {
   "cell_type": "code",
   "execution_count": 7,
   "id": "120cfa7b-f482-46ed-8e40-4dce7f79ea19",
   "metadata": {},
   "outputs": [
    {
     "data": {
      "text/plain": [
       "False"
      ]
     },
     "execution_count": 7,
     "metadata": {},
     "output_type": "execute_result"
    }
   ],
   "source": [
    "fruits = ['apple', 'banana', 'pineapple', 'jackfruit']\n",
    "vegetables = ['celery', 'potato', 'broccoli', 'kale']\n",
    "\n",
    "'kale' not in vegetables"
   ]
  },
  {
   "cell_type": "code",
   "execution_count": 9,
   "id": "e8f7bb74-1358-42e3-b7ad-0221e87e74c3",
   "metadata": {},
   "outputs": [
    {
     "data": {
      "text/plain": [
       "True"
      ]
     },
     "execution_count": 9,
     "metadata": {},
     "output_type": "execute_result"
    }
   ],
   "source": [
    "'app' in 'apple'"
   ]
  },
  {
   "cell_type": "code",
   "execution_count": 11,
   "id": "69055438-71ea-4b41-b961-847aa6995e64",
   "metadata": {},
   "outputs": [
    {
     "data": {
      "text/plain": [
       "False"
      ]
     },
     "execution_count": 11,
     "metadata": {},
     "output_type": "execute_result"
    }
   ],
   "source": [
    "'apple' > 'oranges'\n",
    "# The answer is false, as the programme sees each letter as a code/number and compares the numbers between both words"
   ]
  },
  {
   "attachments": {},
   "cell_type": "markdown",
   "id": "3c67fc40",
   "metadata": {},
   "source": [
    "## 2.1 Asking Math questions"
   ]
  },
  {
   "attachments": {},
   "cell_type": "markdown",
   "id": "59ccae7b",
   "metadata": {},
   "source": [
    "# 3 Python stores information in different formats or types"
   ]
  },
  {
   "cell_type": "code",
   "execution_count": 12,
   "id": "d53e3112-c1cf-46e7-ab2a-27a8a74cde1f",
   "metadata": {},
   "outputs": [
    {
     "name": "stdout",
     "output_type": "stream",
     "text": [
      "1 <class 'int'>\n"
     ]
    }
   ],
   "source": [
    "x = int(1.234)\n",
    "print(x, type(x))"
   ]
  },
  {
   "cell_type": "code",
   "execution_count": 15,
   "id": "df8cfdeb-9e15-4fa5-99c2-c3801a92489e",
   "metadata": {},
   "outputs": [
    {
     "name": "stdout",
     "output_type": "stream",
     "text": [
      "x='1.234' <class 'str'>\n"
     ]
    }
   ],
   "source": [
    "x = str(1.234)\n",
    "print(f\"{x=}\", type(x))"
   ]
  },
  {
   "cell_type": "code",
   "execution_count": 18,
   "id": "c02b421a-0630-462b-bf63-aecb1c4369df",
   "metadata": {},
   "outputs": [
    {
     "name": "stdout",
     "output_type": "stream",
     "text": [
      "1.234 <class 'float'>\n"
     ]
    }
   ],
   "source": [
    "x = float(1.234)\n",
    "print(x, type(x))\n"
   ]
  },
  {
   "cell_type": "code",
   "execution_count": 16,
   "id": "77f8ef09-cc9b-4966-af31-b4067c394569",
   "metadata": {},
   "outputs": [
    {
     "name": "stdout",
     "output_type": "stream",
     "text": [
      "x=(1.234+0j) <class 'complex'>\n"
     ]
    }
   ],
   "source": [
    "x = complex(1.234)\n",
    "print(f\"{x=}\",type(x))"
   ]
  },
  {
   "cell_type": "code",
   "execution_count": 22,
   "id": "f072af79-6041-4902-9c5d-21031d207381",
   "metadata": {},
   "outputs": [
    {
     "data": {
      "text/plain": [
       "array([10.], dtype=float16)"
      ]
     },
     "execution_count": 22,
     "metadata": {},
     "output_type": "execute_result"
    }
   ],
   "source": [
    "import numpy as np\n",
    "np.float16([10])"
   ]
  },
  {
   "cell_type": "code",
   "execution_count": 23,
   "id": "803d801a-7322-48b0-a443-b52ebcfbbec0",
   "metadata": {},
   "outputs": [
    {
     "data": {
      "text/plain": [
       "array([10.], dtype=float32)"
      ]
     },
     "execution_count": 23,
     "metadata": {},
     "output_type": "execute_result"
    }
   ],
   "source": [
    "np.float32([10])"
   ]
  },
  {
   "cell_type": "code",
   "execution_count": 24,
   "id": "75aa2668-4daa-456f-8d64-1d18cd7aeaa5",
   "metadata": {},
   "outputs": [
    {
     "data": {
      "text/plain": [
       "array([10.])"
      ]
     },
     "execution_count": 24,
     "metadata": {},
     "output_type": "execute_result"
    }
   ],
   "source": [
    "np.float64([10])"
   ]
  },
  {
   "attachments": {},
   "cell_type": "markdown",
   "id": "254982b5",
   "metadata": {},
   "source": [
    "# 4 Never compare floats directly"
   ]
  },
  {
   "cell_type": "code",
   "execution_count": 25,
   "id": "04730218-cb10-4ffa-aef1-5f64ebdd1630",
   "metadata": {},
   "outputs": [
    {
     "data": {
      "text/plain": [
       "False"
      ]
     },
     "execution_count": 25,
     "metadata": {},
     "output_type": "execute_result"
    }
   ],
   "source": [
    "a = 0.1\n",
    "a3 = 0.3\n",
    "a * 3 == a3"
   ]
  },
  {
   "cell_type": "code",
   "execution_count": 26,
   "id": "34a8deaa-dd68-4540-afee-adfae4bfa375",
   "metadata": {},
   "outputs": [
    {
     "data": {
      "text/plain": [
       "'0.29999999999999999'"
      ]
     },
     "execution_count": 26,
     "metadata": {},
     "output_type": "execute_result"
    }
   ],
   "source": [
    "f'{0.3:.17f}'"
   ]
  },
  {
   "cell_type": "markdown",
   "id": "bd73254e-4523-4aa8-92a2-cb7a8034312d",
   "metadata": {},
   "source": [
    "Internally, the computer is unable to store an infinite number of zeros in 0.3000~\n"
   ]
  },
  {
   "cell_type": "code",
   "execution_count": 27,
   "id": "85e2786b-c8ff-4693-91b8-8112213b899c",
   "metadata": {},
   "outputs": [
    {
     "data": {
      "text/plain": [
       "True"
      ]
     },
     "execution_count": 27,
     "metadata": {},
     "output_type": "execute_result"
    }
   ],
   "source": [
    "abs(a3 - 3*a) < 1E-5\n"
   ]
  },
  {
   "cell_type": "code",
   "execution_count": 29,
   "id": "8d899abb-d5c2-4155-9044-c78a4ff2f8e2",
   "metadata": {},
   "outputs": [
    {
     "data": {
      "text/plain": [
       "np.True_"
      ]
     },
     "execution_count": 29,
     "metadata": {},
     "output_type": "execute_result"
    }
   ],
   "source": [
    "np.isclose(a3,3*a)"
   ]
  },
  {
   "cell_type": "markdown",
   "id": "ecac9b3a-880c-405d-889e-fbab67bf79fa",
   "metadata": {},
   "source": [
    "Use on of the **above two** methods to compare float variables"
   ]
  },
  {
   "cell_type": "code",
   "execution_count": null,
   "id": "3ad6a3a6-05a3-4d70-92f0-cf360e7ed8de",
   "metadata": {},
   "outputs": [],
   "source": []
  },
  {
   "attachments": {},
   "cell_type": "markdown",
   "id": "6db5e29a",
   "metadata": {},
   "source": [
    "## 4.1 The Problem"
   ]
  },
  {
   "attachments": {},
   "cell_type": "markdown",
   "id": "b2eb34a7",
   "metadata": {},
   "source": [
    "## 4.2 A solution"
   ]
  },
  {
   "attachments": {},
   "cell_type": "markdown",
   "id": "35cd6fd9",
   "metadata": {},
   "source": [
    "# 5 Combining English and variables"
   ]
  },
  {
   "cell_type": "code",
   "execution_count": null,
   "id": "5e690fed-b7c3-451e-842a-6e073a472bbb",
   "metadata": {},
   "outputs": [],
   "source": []
  },
  {
   "attachments": {},
   "cell_type": "markdown",
   "id": "a4cadad4",
   "metadata": {},
   "source": [
    "## 5.1 Structure of f-strings"
   ]
  },
  {
   "cell_type": "code",
   "execution_count": 30,
   "id": "bc5b1989-4b18-4a37-b1de-ae8b8b101e31",
   "metadata": {},
   "outputs": [
    {
     "name": "stdout",
     "output_type": "stream",
     "text": [
      "Hello Batman!\n"
     ]
    }
   ],
   "source": [
    "name = \"Batman\"\n",
    "print(f\"Hello {name}!\")"
   ]
  },
  {
   "cell_type": "code",
   "execution_count": 31,
   "id": "1e19c9d5-75c4-49b7-ae29-d8327fd989d6",
   "metadata": {},
   "outputs": [
    {
     "name": "stdout",
     "output_type": "stream",
     "text": [
      "Hello BATMAN!\n"
     ]
    }
   ],
   "source": [
    "name = \"Batman\"\n",
    "print(f\"Hello {name.upper()}!\")"
   ]
  },
  {
   "cell_type": "code",
   "execution_count": 32,
   "id": "c3f37701-15c1-4e45-95e1-80bffc7c4fc2",
   "metadata": {},
   "outputs": [
    {
     "name": "stdout",
     "output_type": "stream",
     "text": [
      "Bruce Wayne is Batman.\n",
      "        Bruce Wayne is Batman.\n"
     ]
    }
   ],
   "source": [
    "text = 'Bruce Wayne is Batman.'\n",
    "print(f'{text}')\n",
    "print(f'{text:>30}')      # A block of 30 characters;"
   ]
  },
  {
   "cell_type": "code",
   "execution_count": 33,
   "id": "9a353cef-ca8e-4497-9eb8-f867a6e2f4e5",
   "metadata": {},
   "outputs": [
    {
     "name": "stdout",
     "output_type": "stream",
     "text": [
      "The cube of pi to 6 decimal places is 31.006277\n"
     ]
    }
   ],
   "source": [
    "print(f'The cube of pi to 6 decimal places is {np.pi**3:05.6f}')"
   ]
  },
  {
   "cell_type": "code",
   "execution_count": 34,
   "id": "25cd481c",
   "metadata": {},
   "outputs": [
    {
     "name": "stdout",
     "output_type": "stream",
     "text": [
      "The cube of pi to 6 decimal places is 31.006277\n"
     ]
    }
   ],
   "source": [
    "print(f'The cube of pi to 6 decimal places is {np.pi**3:.6f}')"
   ]
  },
  {
   "cell_type": "code",
   "execution_count": 37,
   "id": "1e818255",
   "metadata": {},
   "outputs": [
    {
     "name": "stdout",
     "output_type": "stream",
     "text": [
      "The cube of pi to 6 decimal places is 00031\n"
     ]
    }
   ],
   "source": [
    "print(f'The cube of pi to 6 decimal places is {int(np.pi**3):05d}')"
   ]
  },
  {
   "attachments": {},
   "cell_type": "markdown",
   "id": "24469c68",
   "metadata": {},
   "source": [
    "# 6 Escape sequences"
   ]
  },
  {
   "cell_type": "code",
   "execution_count": 39,
   "id": "ffdb2b39-2b22-4599-bc7a-8e49ed7400b2",
   "metadata": {},
   "outputs": [
    {
     "name": "stdout",
     "output_type": "stream",
     "text": [
      "Line 1\n",
      ":Line 2\tLine 3\n"
     ]
    }
   ],
   "source": [
    "print('Line 1\\n:Line 2\\tLine 3')"
   ]
  },
  {
   "cell_type": "code",
   "execution_count": 40,
   "id": "b9b37238",
   "metadata": {},
   "outputs": [
    {
     "name": "stdout",
     "output_type": "stream",
     "text": [
      "Line 1\n",
      ":Lin\\e 2\tLine 3\n"
     ]
    }
   ],
   "source": [
    "print('Line 1\\n:Lin\\\\e 2\\tLine 3') # To put a slash (\\) in a string, you must put 2 slashes together"
   ]
  },
  {
   "attachments": {},
   "cell_type": "markdown",
   "id": "586439c7",
   "metadata": {},
   "source": [
    "## 6.1 Self-documenting f-strings"
   ]
  },
  {
   "attachments": {},
   "cell_type": "markdown",
   "id": "2675b467",
   "metadata": {},
   "source": [
    "# 7 Computers read = from Right to Left!"
   ]
  },
  {
   "cell_type": "code",
   "execution_count": 43,
   "id": "4a1a2339-efdf-4bf6-add8-394316cddb9b",
   "metadata": {},
   "outputs": [
    {
     "data": {
      "text/plain": [
       "42"
      ]
     },
     "execution_count": 43,
     "metadata": {},
     "output_type": "execute_result"
    }
   ],
   "source": [
    "x = 40\n",
    "y = x + 2\n",
    "y"
   ]
  },
  {
   "cell_type": "code",
   "execution_count": 44,
   "id": "4ee81496-0e71-4175-a2ec-e8a5f446ad92",
   "metadata": {},
   "outputs": [
    {
     "name": "stdout",
     "output_type": "stream",
     "text": [
      "42\n"
     ]
    }
   ],
   "source": [
    "y = 40\n",
    "y = y + 2\n",
    "print(y)"
   ]
  },
  {
   "cell_type": "code",
   "execution_count": 45,
   "id": "4df2b4d7-5be5-45db-91e6-4ca5d51cfbb5",
   "metadata": {},
   "outputs": [
    {
     "data": {
      "text/plain": [
       "42"
      ]
     },
     "execution_count": 45,
     "metadata": {},
     "output_type": "execute_result"
    }
   ],
   "source": [
    "y = 40\n",
    "y = y + 2\n",
    "y\n",
    "y = 40\n",
    "y += 2    # Same as y = y + 2\n",
    "y"
   ]
  },
  {
   "attachments": {},
   "cell_type": "markdown",
   "id": "21f664f6",
   "metadata": {},
   "source": [
    "# 8 Shorter and Cleaner Code"
   ]
  },
  {
   "attachments": {},
   "cell_type": "markdown",
   "id": "799fc0fc",
   "metadata": {},
   "source": [
    "# 9 Python can be a prima-donna."
   ]
  },
  {
   "attachments": {},
   "cell_type": "markdown",
   "id": "f754cce8",
   "metadata": {},
   "source": [
    "# 10 Best Practices for Scientific Computing"
   ]
  },
  {
   "attachments": {},
   "cell_type": "markdown",
   "id": "f9be2830",
   "metadata": {},
   "source": [
    "# 11 Looking for help"
   ]
  },
  {
   "attachments": {},
   "cell_type": "markdown",
   "id": "5ab11fbc",
   "metadata": {},
   "source": [
    "## References"
   ]
  },
  {
   "attachments": {},
   "cell_type": "markdown",
   "id": "7724bbab",
   "metadata": {},
   "source": [
    "## Footnotes"
   ]
  }
 ],
 "metadata": {
  "kernelspec": {
   "display_name": "Python 3 (ipykernel)",
   "language": "python",
   "name": "python3"
  },
  "language_info": {
   "codemirror_mode": {
    "name": "ipython",
    "version": 3
   },
   "file_extension": ".py",
   "mimetype": "text/x-python",
   "name": "python",
   "nbconvert_exporter": "python",
   "pygments_lexer": "ipython3",
   "version": "3.13.5"
  },
  "toc": {
   "base_numbering": 1,
   "nav_menu": {},
   "number_sections": true,
   "sideBar": true,
   "skip_h1_title": false,
   "title_cell": "Table of Contents",
   "title_sidebar": "Contents",
   "toc_cell": false,
   "toc_position": {},
   "toc_section_display": true,
   "toc_window_display": false
  },
  "vscode": {
   "interpreter": {
    "hash": "31f2aee4e71d21fbe5cf8b01ff0e069b9275f58929596ceb00d14d90e3e16cd6"
   }
  }
 },
 "nbformat": 4,
 "nbformat_minor": 5
}
