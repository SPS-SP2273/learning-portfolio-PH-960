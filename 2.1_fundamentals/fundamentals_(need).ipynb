{
 "cells": [
  {
   "attachments": {},
   "cell_type": "markdown",
   "id": "123456",
   "metadata": {},
   "source": [
    "<div style=\"text-align:left;font-size:2em\"><span style=\"font-weight:bolder;font-size:1.25em\">SP2273 | Learning Portfolio</span><br><br><span style=\"font-weight:bold;color:darkred\">Fundamentals (Need)</span></div>"
   ]
  },
  {
   "attachments": {},
   "cell_type": "markdown",
   "id": "494669f6",
   "metadata": {},
   "source": [
    "# What to expect in this chapter"
   ]
  },
  {
   "attachments": {},
   "cell_type": "markdown",
   "id": "5899f0f1",
   "metadata": {},
   "source": [
    "# 1 Functions"
   ]
  },
  {
   "cell_type": "code",
   "execution_count": 4,
   "id": "b45f3522-4137-482c-bf99-5322d9ee6078",
   "metadata": {},
   "outputs": [
    {
     "name": "stdout",
     "output_type": "stream",
     "text": [
      "Hello World\n"
     ]
    }
   ],
   "source": [
    "print( 'Hello World' )"
   ]
  },
  {
   "cell_type": "code",
   "execution_count": 5,
   "id": "2ec02006-d068-4ded-84ba-0cde67e62a69",
   "metadata": {},
   "outputs": [
    {
     "name": "stdout",
     "output_type": "stream",
     "text": [
      "Hello World\n",
      "Hello World Again\n"
     ]
    }
   ],
   "source": [
    "print('Hello World')\n",
    "print('Hello World Again')"
   ]
  },
  {
   "cell_type": "code",
   "execution_count": 6,
   "id": "ba7a8350-7626-46c7-ac3f-a2b5c8f7595f",
   "metadata": {},
   "outputs": [
    {
     "name": "stdout",
     "output_type": "stream",
     "text": [
      "Hello World**hahaha**what\n"
     ]
    }
   ],
   "source": [
    "print('Hello World', 'hahaha', 'what', sep='**')"
   ]
  },
  {
   "cell_type": "code",
   "execution_count": 7,
   "id": "7ecd7867-b85b-4dff-95bd-d235ab46e475",
   "metadata": {},
   "outputs": [
    {
     "data": {
      "text/plain": [
       "<function print(*args, sep=' ', end='\\n', file=None, flush=False)>"
      ]
     },
     "execution_count": 7,
     "metadata": {},
     "output_type": "execute_result"
    }
   ],
   "source": [
    "print"
   ]
  },
  {
   "cell_type": "code",
   "execution_count": 8,
   "id": "d770481c-9e13-4551-b31a-2cc6ef95362c",
   "metadata": {},
   "outputs": [],
   "source": [
    "# this is a message to everyone"
   ]
  },
  {
   "cell_type": "code",
   "execution_count": 10,
   "id": "70a75aa0-a56b-467f-b9c0-320283c0f9d8",
   "metadata": {},
   "outputs": [
    {
     "name": "stdout",
     "output_type": "stream",
     "text": [
      "test1\n",
      "test2\n"
     ]
    },
    {
     "ename": "NameError",
     "evalue": "name 'x' is not defined",
     "output_type": "error",
     "traceback": [
      "\u001b[31m---------------------------------------------------------------------------\u001b[39m",
      "\u001b[31mNameError\u001b[39m                                 Traceback (most recent call last)",
      "\u001b[36mCell\u001b[39m\u001b[36m \u001b[39m\u001b[32mIn[10]\u001b[39m\u001b[32m, line 3\u001b[39m\n\u001b[32m      1\u001b[39m \u001b[38;5;28mprint\u001b[39m(\u001b[33m'\u001b[39m\u001b[33mtest1\u001b[39m\u001b[33m'\u001b[39m)\n\u001b[32m      2\u001b[39m \u001b[38;5;28mprint\u001b[39m(\u001b[33m'\u001b[39m\u001b[33mtest2\u001b[39m\u001b[33m'\u001b[39m)\n\u001b[32m----> \u001b[39m\u001b[32m3\u001b[39m \u001b[43mx\u001b[49m += \u001b[32m1\u001b[39m\n\u001b[32m      4\u001b[39m \u001b[38;5;28mprint\u001b[39m(\u001b[33m'\u001b[39m\u001b[33mtest3\u001b[39m\u001b[33m'\u001b[39m)\n",
      "\u001b[31mNameError\u001b[39m: name 'x' is not defined"
     ]
    }
   ],
   "source": [
    "print('test1')\n",
    "print('test2')\n",
    "x += 1\n",
    "print('test3')"
   ]
  },
  {
   "attachments": {},
   "cell_type": "markdown",
   "id": "09988d8f",
   "metadata": {},
   "source": [
    "# 2 Python is interpreted"
   ]
  },
  {
   "attachments": {},
   "cell_type": "markdown",
   "id": "6cd8f902",
   "metadata": {},
   "source": [
    "# 3 Python is sensitive."
   ]
  },
  {
   "cell_type": "code",
   "execution_count": 11,
   "id": "e821f73d-10f4-457c-a33c-4255092f181f",
   "metadata": {},
   "outputs": [
    {
     "ename": "NameError",
     "evalue": "name 'Print' is not defined",
     "output_type": "error",
     "traceback": [
      "\u001b[31m---------------------------------------------------------------------------\u001b[39m",
      "\u001b[31mNameError\u001b[39m                                 Traceback (most recent call last)",
      "\u001b[36mCell\u001b[39m\u001b[36m \u001b[39m\u001b[32mIn[11]\u001b[39m\u001b[32m, line 1\u001b[39m\n\u001b[32m----> \u001b[39m\u001b[32m1\u001b[39m \u001b[43mPrint\u001b[49m(\u001b[33m'\u001b[39m\u001b[33mtest\u001b[39m\u001b[33m'\u001b[39m)\n",
      "\u001b[31mNameError\u001b[39m: name 'Print' is not defined"
     ]
    }
   ],
   "source": [
    "Print('test')"
   ]
  },
  {
   "attachments": {},
   "cell_type": "markdown",
   "id": "6b6b908d",
   "metadata": {},
   "source": [
    "# 4 Comments"
   ]
  },
  {
   "cell_type": "code",
   "execution_count": 20,
   "id": "034c916c-0401-4f15-bf38-76152b8e8a76",
   "metadata": {},
   "outputs": [
    {
     "name": "stdout",
     "output_type": "stream",
     "text": [
      "0.025\n"
     ]
    }
   ],
   "source": [
    "mass = 10 # x is the age.\n",
    "height = 20 # y is the height.\n",
    "bmi = mass/height**2. # Indicates potential obesity\n",
    "print(bmi)"
   ]
  },
  {
   "cell_type": "code",
   "execution_count": 17,
   "id": "fc18a54d-d64b-44d6-a0b0-ba6857d03267",
   "metadata": {},
   "outputs": [
    {
     "data": {
      "text/plain": [
       "'\\nThis is a multiline \\nthing\\n'"
      ]
     },
     "execution_count": 17,
     "metadata": {},
     "output_type": "execute_result"
    }
   ],
   "source": [
    "'''\n",
    "This is a multiline \n",
    "thing\n",
    "'''"
   ]
  },
  {
   "cell_type": "code",
   "execution_count": null,
   "id": "34baa6db-30dd-4e6f-8520-10fcb20dc10d",
   "metadata": {},
   "outputs": [],
   "source": []
  },
  {
   "attachments": {},
   "cell_type": "markdown",
   "id": "730a523a",
   "metadata": {},
   "source": [
    "# 5 = is not the same as =="
   ]
  },
  {
   "cell_type": "code",
   "execution_count": 21,
   "id": "af598103-a404-4c80-ba86-0364931020e9",
   "metadata": {},
   "outputs": [],
   "source": [
    "name = 'Batman'"
   ]
  },
  {
   "cell_type": "code",
   "execution_count": 22,
   "id": "30ff2ba8-799c-4676-b106-677af2257100",
   "metadata": {},
   "outputs": [
    {
     "data": {
      "text/plain": [
       "True"
      ]
     },
     "execution_count": 22,
     "metadata": {},
     "output_type": "execute_result"
    }
   ],
   "source": [
    "name == 'Batman'"
   ]
  },
  {
   "cell_type": "code",
   "execution_count": 23,
   "id": "b21cbc00-e74e-4f8d-bb3f-8fe4826e5ea0",
   "metadata": {},
   "outputs": [
    {
     "data": {
      "text/plain": [
       "False"
      ]
     },
     "execution_count": 23,
     "metadata": {},
     "output_type": "execute_result"
    }
   ],
   "source": [
    "name == 'Robin'"
   ]
  },
  {
   "attachments": {},
   "cell_type": "markdown",
   "id": "d9df1d0e",
   "metadata": {},
   "source": [
    "# 6 Use if to make decisions"
   ]
  },
  {
   "cell_type": "code",
   "execution_count": 31,
   "id": "f58877fa-8422-44dd-9ad0-a632b9850944",
   "metadata": {},
   "outputs": [
    {
     "name": "stdout",
     "output_type": "stream",
     "text": [
      "He's not\n",
      "He's definitely not Batman\n"
     ]
    }
   ],
   "source": [
    "name = 'Robin'\n",
    "\n",
    "if name == 'Batman':\n",
    "    # Things we do when TRUE\n",
    "    print(\"He's Batman\")\n",
    "else:\n",
    "   # Things we do when FALSE\n",
    "    print(\"He's not\")\n",
    "    print(\"He's definitely not Batman\")"
   ]
  },
  {
   "attachments": {},
   "cell_type": "markdown",
   "id": "1a1796d5",
   "metadata": {},
   "source": [
    "# 7 Indentations (spaces) are sooo IMPORTANT!"
   ]
  },
  {
   "cell_type": "code",
   "execution_count": 32,
   "id": "0b007e33-3a5d-4a79-9f75-10a99d9f1601",
   "metadata": {},
   "outputs": [
    {
     "name": "stdout",
     "output_type": "stream",
     "text": [
      "10\n"
     ]
    }
   ],
   "source": [
    "x = 10\n",
    "print(x)"
   ]
  },
  {
   "cell_type": "code",
   "execution_count": 34,
   "id": "e5add979-246a-4a48-8272-e8d177673730",
   "metadata": {},
   "outputs": [
    {
     "ename": "IndentationError",
     "evalue": "unexpected indent (1537435392.py, line 2)",
     "output_type": "error",
     "traceback": [
      "  \u001b[36mCell\u001b[39m\u001b[36m \u001b[39m\u001b[32mIn[34]\u001b[39m\u001b[32m, line 2\u001b[39m\n\u001b[31m    \u001b[39m\u001b[31mprint(x)\u001b[39m\n    ^\n\u001b[31mIndentationError\u001b[39m\u001b[31m:\u001b[39m unexpected indent\n"
     ]
    }
   ],
   "source": [
    "x = 10\n",
    " print(x)"
   ]
  },
  {
   "cell_type": "markdown",
   "id": "5a390825-ace4-4d0b-8f18-aa8c462f778b",
   "metadata": {},
   "source": [
    "You can use **Tab** to create indentations"
   ]
  },
  {
   "attachments": {},
   "cell_type": "markdown",
   "id": "32b086dd",
   "metadata": {},
   "source": [
    "# 8 ‘age’ is English, age is a variable."
   ]
  },
  {
   "cell_type": "code",
   "execution_count": 38,
   "id": "05f4c7a9-9cb5-4d18-a7c3-c08665481e78",
   "metadata": {},
   "outputs": [
    {
     "name": "stdout",
     "output_type": "stream",
     "text": [
      "age , 10\n"
     ]
    }
   ],
   "source": [
    "age = 10 # Assigning a value to a variable\n",
    "print( 'age' , ',' , age)"
   ]
  },
  {
   "attachments": {},
   "cell_type": "markdown",
   "id": "d2234b3a",
   "metadata": {},
   "source": [
    "# 9 Brackets"
   ]
  },
  {
   "cell_type": "code",
   "execution_count": 40,
   "id": "9694e850-4cec-4dc6-b3b7-fab09d7dd04e",
   "metadata": {},
   "outputs": [
    {
     "ename": "TypeError",
     "evalue": "unsupported operand type(s) for +: 'int' and 'list'",
     "output_type": "error",
     "traceback": [
      "\u001b[31m---------------------------------------------------------------------------\u001b[39m",
      "\u001b[31mTypeError\u001b[39m                                 Traceback (most recent call last)",
      "\u001b[36mCell\u001b[39m\u001b[36m \u001b[39m\u001b[32mIn[40]\u001b[39m\u001b[32m, line 1\u001b[39m\n\u001b[32m----> \u001b[39m\u001b[32m1\u001b[39m (\u001b[32;43m1\u001b[39;49m\u001b[43m \u001b[49m\u001b[43m+\u001b[49m\u001b[43m \u001b[49m\u001b[43m[\u001b[49m\u001b[32;43m3\u001b[39;49m\u001b[43m+\u001b[49m\u001b[32;43m5\u001b[39;49m\u001b[43m]\u001b[49m) * \u001b[32m5\u001b[39m\n",
      "\u001b[31mTypeError\u001b[39m: unsupported operand type(s) for +: 'int' and 'list'"
     ]
    }
   ],
   "source": [
    "(1 + [3+5]) * 5\n",
    "#Square brackets are used for lists, you must use curved brackets again)"
   ]
  },
  {
   "cell_type": "code",
   "execution_count": 42,
   "id": "1436bb64-0869-475b-8a84-735fc365889b",
   "metadata": {},
   "outputs": [],
   "source": [
    "py_list = [1, 2, 3, 4, 5]   # A 1D list\n",
    "\n",
    "py_list_2 = [               # A 2D list\n",
    "                [1, \"A\"],      \n",
    "                [2, \"B\"],\n",
    "                [3, \"C\"],\n",
    "                [4, \"D\"],\n",
    "                [5, \"E\"]\n",
    "            ]"
   ]
  },
  {
   "cell_type": "code",
   "execution_count": 43,
   "id": "725d4420-2120-4cfa-b515-5f4cf80fe704",
   "metadata": {},
   "outputs": [],
   "source": [
    "list = [1, age , '3' , '4' , '5'] #Never use these words as variables as they are python functions\n",
    "for\n",
    "int\n",
    "complex\n",
    "not\n",
    "in"
   ]
  },
  {
   "cell_type": "code",
   "execution_count": 44,
   "id": "0ae1e4f7-5904-48ff-8cc1-b991ecf4477b",
   "metadata": {},
   "outputs": [],
   "source": [
    "personal_info = {\n",
    "    'Names': 'Batman',\n",
    "    'Real Name': 'Bruce Wayne',\n",
    "    'Age': 55,\n",
    "    'Affiliation': 'Justice League',\n",
    "    'Universe': 'DC'\n",
    "}"
   ]
  },
  {
   "cell_type": "code",
   "execution_count": 45,
   "id": "d6e1b233-4711-4f14-8166-801b397d1b89",
   "metadata": {},
   "outputs": [
    {
     "name": "stdout",
     "output_type": "stream",
     "text": [
      "Bruce Wayne\n"
     ]
    }
   ],
   "source": [
    "print(personal_info['Real Name'])    "
   ]
  },
  {
   "attachments": {},
   "cell_type": "markdown",
   "id": "265147c0",
   "metadata": {},
   "source": [
    "# 10 Giving Python superpowers with Packages"
   ]
  },
  {
   "cell_type": "code",
   "execution_count": 46,
   "id": "81ea204d-3c19-43b0-9a18-af48ce050d0d",
   "metadata": {},
   "outputs": [
    {
     "ename": "NameError",
     "evalue": "name 'sqrt' is not defined",
     "output_type": "error",
     "traceback": [
      "\u001b[31m---------------------------------------------------------------------------\u001b[39m",
      "\u001b[31mNameError\u001b[39m                                 Traceback (most recent call last)",
      "\u001b[36mCell\u001b[39m\u001b[36m \u001b[39m\u001b[32mIn[46]\u001b[39m\u001b[32m, line 1\u001b[39m\n\u001b[32m----> \u001b[39m\u001b[32m1\u001b[39m \u001b[43msqrt\u001b[49m(\u001b[32m4\u001b[39m)\n",
      "\u001b[31mNameError\u001b[39m: name 'sqrt' is not defined"
     ]
    }
   ],
   "source": [
    "sqrt(4)"
   ]
  },
  {
   "cell_type": "code",
   "execution_count": 48,
   "id": "e70b715e-8e82-4707-955a-033b6da4ed31",
   "metadata": {},
   "outputs": [],
   "source": [
    "import math"
   ]
  },
  {
   "cell_type": "code",
   "execution_count": 49,
   "id": "96b76eed-0fb5-4010-9512-4d07af95257a",
   "metadata": {},
   "outputs": [
    {
     "data": {
      "text/plain": [
       "2.0"
      ]
     },
     "execution_count": 49,
     "metadata": {},
     "output_type": "execute_result"
    }
   ],
   "source": [
    "math.sqrt(4)"
   ]
  },
  {
   "cell_type": "code",
   "execution_count": 53,
   "id": "11721109-5da3-442f-b9d2-84f85bdbdd97",
   "metadata": {},
   "outputs": [
    {
     "data": {
      "text/plain": [
       "array([2., 3., 4.])"
      ]
     },
     "execution_count": 53,
     "metadata": {},
     "output_type": "execute_result"
    }
   ],
   "source": [
    "import numpy \n",
    "numpy.sqrt(4)\n",
    "numpy.sqrt([4,9,16])"
   ]
  },
  {
   "cell_type": "code",
   "execution_count": 54,
   "id": "7ca09a24-888e-449c-baaf-926277d3243c",
   "metadata": {},
   "outputs": [
    {
     "data": {
      "text/plain": [
       "array([2., 3., 4.])"
      ]
     },
     "execution_count": 54,
     "metadata": {},
     "output_type": "execute_result"
    }
   ],
   "source": [
    "import numpy as np\n",
    "np.sqrt([4,9,16])"
   ]
  },
  {
   "cell_type": "markdown",
   "id": "5fa2e089-29a8-4b6e-8f75-971c6210abc3",
   "metadata": {},
   "source": [
    "Best to import everything at the start\n",
    "If you restart the kernel, the imports will be gone"
   ]
  },
  {
   "attachments": {},
   "cell_type": "markdown",
   "id": "6b64f674",
   "metadata": {},
   "source": [
    "## 10.1 Some Context"
   ]
  },
  {
   "attachments": {},
   "cell_type": "markdown",
   "id": "a68eb9b5",
   "metadata": {},
   "source": [
    "## 10.2 Importing the math package"
   ]
  },
  {
   "attachments": {},
   "cell_type": "markdown",
   "id": "dfe2d389",
   "metadata": {},
   "source": [
    "## 10.3 Importing the numpy package"
   ]
  },
  {
   "attachments": {},
   "cell_type": "markdown",
   "id": "2795870e",
   "metadata": {},
   "source": [
    "## 10.4 Why so many packages?"
   ]
  },
  {
   "attachments": {},
   "cell_type": "markdown",
   "id": "843a277d",
   "metadata": {},
   "source": [
    "# 11 The dot (.)"
   ]
  },
  {
   "cell_type": "code",
   "execution_count": 55,
   "id": "3f1359a2-02e0-499a-a9f2-35303797cb6d",
   "metadata": {},
   "outputs": [
    {
     "data": {
      "text/plain": [
       "'Apple'"
      ]
     },
     "execution_count": 55,
     "metadata": {},
     "output_type": "execute_result"
    }
   ],
   "source": [
    "'apple'.title()"
   ]
  },
  {
   "cell_type": "code",
   "execution_count": 56,
   "id": "66ffa854-6931-40a5-889e-0622ec117f3d",
   "metadata": {},
   "outputs": [
    {
     "data": {
      "text/plain": [
       "'APPLE'"
      ]
     },
     "execution_count": 56,
     "metadata": {},
     "output_type": "execute_result"
    }
   ],
   "source": [
    "'apple'.upper()"
   ]
  },
  {
   "cell_type": "code",
   "execution_count": 57,
   "id": "9c553d1b-0472-4b4c-b418-d60132058250",
   "metadata": {},
   "outputs": [
    {
     "data": {
      "text/plain": [
       "['I', 'am', 'Batman']"
      ]
     },
     "execution_count": 57,
     "metadata": {},
     "output_type": "execute_result"
    }
   ],
   "source": [
    "\"I am Batman\".split()\n"
   ]
  },
  {
   "attachments": {},
   "cell_type": "markdown",
   "id": "b6dfc41f",
   "metadata": {},
   "source": [
    "## Footnotes"
   ]
  }
 ],
 "metadata": {
  "kernelspec": {
   "display_name": "Python 3 (ipykernel)",
   "language": "python",
   "name": "python3"
  },
  "language_info": {
   "codemirror_mode": {
    "name": "ipython",
    "version": 3
   },
   "file_extension": ".py",
   "mimetype": "text/x-python",
   "name": "python",
   "nbconvert_exporter": "python",
   "pygments_lexer": "ipython3",
   "version": "3.13.5"
  },
  "toc": {
   "base_numbering": 1,
   "nav_menu": {},
   "number_sections": true,
   "sideBar": true,
   "skip_h1_title": false,
   "title_cell": "Table of Contents",
   "title_sidebar": "Contents",
   "toc_cell": false,
   "toc_position": {},
   "toc_section_display": true,
   "toc_window_display": false
  },
  "vscode": {
   "interpreter": {
    "hash": "31f2aee4e71d21fbe5cf8b01ff0e069b9275f58929596ceb00d14d90e3e16cd6"
   }
  }
 },
 "nbformat": 4,
 "nbformat_minor": 5
}
