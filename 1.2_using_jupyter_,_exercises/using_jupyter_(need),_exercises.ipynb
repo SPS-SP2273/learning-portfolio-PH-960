{
 "cells": [
  {
   "attachments": {},
   "cell_type": "markdown",
   "id": "123456",
   "metadata": {},
   "source": [
    "<div style=\"text-align:left;font-size:2em\"><span style=\"font-weight:bolder;font-size:1.25em\">SP2273 | Learning Portfolio</span><br><br><span style=\"font-weight:bold;color:darkred\">Using Jupyter (Need), Exercises</span></div>"
   ]
  },
  {
   "attachments": {},
   "cell_type": "markdown",
   "id": "83851a1e",
   "metadata": {},
   "source": [
    "## 1 Quadratic Equations"
   ]
  },
  {
   "attachments": {},
   "cell_type": "markdown",
   "id": "faa5abd3",
   "metadata": {},
   "source": [
    "### Introduction"
   ]
  },
  {
   "cell_type": "markdown",
   "id": "8dd33759-8d7e-4cd3-9157-ae973d223ed2",
   "metadata": {},
   "source": [
    "![](https://upload.wikimedia.org/wikipedia/commons/thumb/f/f8/Polynomialdeg2.svg/300px-Polynomialdeg2.svg.png)\n",
    "\n",
    "Image from the [Wikipedia page on Quadratic equations](https://en.wikipedia.org/wiki/Quadratic_equation)\n",
    "\n",
    "The general form of a quadratic equation is:\n",
    "$$\n",
    "ax^2 + bx + c = 0\n",
    "$$\n",
    "\n"
   ]
  },
  {
   "attachments": {},
   "cell_type": "markdown",
   "id": "e715242f",
   "metadata": {},
   "source": [
    "### Solutions"
   ]
  },
  {
   "cell_type": "markdown",
   "id": "b0745a0b-a864-451b-99c6-13fff1478f6f",
   "metadata": {},
   "source": [
    "Provided that $a \\ne 0$, we can use an elementary algebraic method called [completing the square](https://en.wikipedia.org/wiki/Completing_the_square)\n",
    "to show that a quadratic equation has the following solution:\n",
    "$$\n",
    "x = \\dfrac{-b \\pm \\sqrt{b^2-4ac}}{2a}\n",
    "$$\n"
   ]
  },
  {
   "attachments": {},
   "cell_type": "markdown",
   "id": "13eb2faf",
   "metadata": {},
   "source": [
    "### Discriminant"
   ]
  },
  {
   "cell_type": "markdown",
   "id": "90b1e769-4123-4d3c-98f7-b253aa29b14d",
   "metadata": {},
   "source": [
    "The quantity $\\Delta= b^2-4ac = 0$ is called the discriminant of the equation and decides the nature of its solutions. The table below shows the various possibilities.\n",
    "| Discriminant    |  Roots   |    \n",
    "| :--- | :--: | \n",
    "| $\\Delta= b^2-4ac = 0$   |  A single solution of $-b/(2a)$  |   \n",
    "| $\\Delta= b^2-4ac \\gt 0$   |  Two distinct solutions  |   \n",
    "| $\\Delta= b^2-4ac \\lt 0$   |  No real solutions; both are complex.  |  "
   ]
  },
  {
   "cell_type": "markdown",
   "id": "29a38983-2903-4c55-ba4d-0ccf5d4d28db",
   "metadata": {},
   "source": [
    "## Exercise 2 (In your Own Words) "
   ]
  },
  {
   "cell_type": "markdown",
   "id": "23153590-79fb-4130-8794-029b5e50e254",
   "metadata": {},
   "source": [
    "1. What is a Git **repository**?: A Git respository acts as a storage location for files of code to be uploaded, where it can be accessed by other devices or people to reference and utilise. \n",
    "1. Git keeps track of _individual changes to files and the history of changes to the respective files_ in the files in our repository.\n",
    "1. What is a commit?: It acts as a signal to officially save and record the changes to files into the history of the repository, so that it can eventually be sent to other repositories for viewing and collaboration purposes after.\n",
    "1. What is a push?: It uploads files from the current repository into a remote repository, so that the changes in files can be accessed by others who are using the remote repository.\n",
    "1. What is a pull?: It extracts files from remote repositories into the local repository, so that any changes implemented to the file through remote means (e.g. via a different device) can be viewed by through the local repository.\n",
    "1. What is the difference between GitHub and GitHub Desktop?: GitHub Desktop is an entirely local application that processes changes to the local repository on the local device. Github is a universally accessible platform that can be used by anyone."
   ]
  },
  {
   "cell_type": "markdown",
   "id": "45373580-4b9b-41c6-aef4-a11ad55b9185",
   "metadata": {},
   "source": [
    "## Exercise 3 (A Matter of Statistics) \n"
   ]
  },
  {
   "cell_type": "markdown",
   "id": "62ffe9cd-dce8-41e5-89fb-e5f4b351c019",
   "metadata": {},
   "source": [
    "$\\mu = \\dfrac{1}{n} \\sum_{i=1}^{n} x_{i}$"
   ]
  },
  {
   "cell_type": "markdown",
   "id": "36b3dbaf-5c33-4e3a-b817-c9b31fdf0723",
   "metadata": {},
   "source": [
    "$\\sigma = \\sqrt {\\dfrac{1}{n} \\sum_{i=1}^{n} (x_i - \\mu)^2}$"
   ]
  },
  {
   "cell_type": "markdown",
   "id": "4e2c87e6-a97e-4265-b701-d38a6fd09db3",
   "metadata": {},
   "source": [
    "$r = \\dfrac {\\sum_{i=1}^{n} (x_i - \\mu_X)  (y_i - \\mu_Y)}{\\sqrt {\\sum_{i=1}^{n} (x_i - \\mu_X)^2  \\sum_{i=1}^{n}(y_i - \\mu_Y)^2}}$"
   ]
  }
 ],
 "metadata": {
  "kernelspec": {
   "display_name": "base",
   "language": "python",
   "name": "python3"
  },
  "language_info": {
   "codemirror_mode": {
    "name": "ipython",
    "version": 3
   },
   "file_extension": ".py",
   "mimetype": "text/x-python",
   "name": "python",
   "nbconvert_exporter": "python",
   "pygments_lexer": "ipython3",
   "version": "3.13.5"
  },
  "toc": {
   "base_numbering": 1,
   "nav_menu": {},
   "number_sections": true,
   "sideBar": true,
   "skip_h1_title": false,
   "title_cell": "Table of Contents",
   "title_sidebar": "Contents",
   "toc_cell": false,
   "toc_position": {},
   "toc_section_display": true,
   "toc_window_display": false
  }
 },
 "nbformat": 4,
 "nbformat_minor": 5
}
