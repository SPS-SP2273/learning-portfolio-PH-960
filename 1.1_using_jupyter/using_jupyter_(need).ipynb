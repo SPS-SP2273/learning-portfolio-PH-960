{
 "cells": [
  {
   "attachments": {},
   "cell_type": "markdown",
   "id": "123456",
   "metadata": {},
   "source": [
    "<div style=\"text-align:left;font-size:2em\"><span style=\"font-weight:bolder;font-size:1.25em\">SP2273 | Learning Portfolio</span><br><br><span style=\"font-weight:bold;color:darkred\">Using Jupyter (Need)</span></div>"
   ]
  },
  {
   "attachments": {},
   "cell_type": "markdown",
   "id": "85ad06ed",
   "metadata": {},
   "source": [
    "# What to expect in this chapter"
   ]
  },
  {
   "attachments": {},
   "cell_type": "markdown",
   "id": "2314eb7e",
   "metadata": {},
   "source": [
    "# 1 Getting ready"
   ]
  },
  {
   "attachments": {},
   "cell_type": "markdown",
   "id": "4a4b60df",
   "metadata": {},
   "source": [
    "# 2 Getting started with Jupyter"
   ]
  },
  {
   "attachments": {},
   "cell_type": "markdown",
   "id": "e84be3f6",
   "metadata": {},
   "source": [
    "## 2.1 It is all about running cells"
   ]
  },
  {
   "attachments": {},
   "cell_type": "markdown",
   "id": "a65455f0",
   "metadata": {},
   "source": [
    "## 2.2 A traditional start"
   ]
  },
  {
   "cell_type": "code",
   "execution_count": 4,
   "id": "ba571773",
   "metadata": {},
   "outputs": [
    {
     "name": "stdout",
     "output_type": "stream",
     "text": [
      "Hello WorldHello WorldHello World\n"
     ]
    }
   ],
   "source": [
    "print( 'Hello World' *3)"
   ]
  },
  {
   "cell_type": "code",
   "execution_count": null,
   "id": "ae562258",
   "metadata": {},
   "outputs": [
    {
     "name": "stdout",
     "output_type": "stream",
     "text": [
      "Batman\n"
     ]
    },
    {
     "ename": "AttributeError",
     "evalue": "'dict' object has no attribute 'Names'",
     "output_type": "error",
     "traceback": [
      "\u001b[31m---------------------------------------------------------------------------\u001b[39m",
      "\u001b[31mAttributeError\u001b[39m                            Traceback (most recent call last)",
      "\u001b[36mCell\u001b[39m\u001b[36m \u001b[39m\u001b[32mIn[26]\u001b[39m\u001b[32m, line 8\u001b[39m\n\u001b[32m      1\u001b[39m personal_info = {\u001b[33m'\u001b[39m\u001b[33mNames\u001b[39m\u001b[33m'\u001b[39m: \u001b[33m'\u001b[39m\u001b[33mBatman\u001b[39m\u001b[33m'\u001b[39m,\n\u001b[32m      2\u001b[39m     \u001b[33m'\u001b[39m\u001b[33mReal Name\u001b[39m\u001b[33m'\u001b[39m: \u001b[33m'\u001b[39m\u001b[33mBruce Wayne\u001b[39m\u001b[33m'\u001b[39m,\n\u001b[32m      3\u001b[39m     \u001b[33m'\u001b[39m\u001b[33mAge\u001b[39m\u001b[33m'\u001b[39m: \u001b[32m55\u001b[39m,\n\u001b[32m      4\u001b[39m     \u001b[33m'\u001b[39m\u001b[33mAffiliation\u001b[39m\u001b[33m'\u001b[39m: \u001b[33m'\u001b[39m\u001b[33mJustice League\u001b[39m\u001b[33m'\u001b[39m,\n\u001b[32m      5\u001b[39m     \u001b[33m'\u001b[39m\u001b[33mUniverse\u001b[39m\u001b[33m'\u001b[39m: \u001b[33m'\u001b[39m\u001b[33mDC\u001b[39m\u001b[33m'\u001b[39m\n\u001b[32m      6\u001b[39m }\n\u001b[32m      7\u001b[39m \u001b[38;5;28mprint\u001b[39m( personal_info[\u001b[33m'\u001b[39m\u001b[33mNames\u001b[39m\u001b[33m'\u001b[39m])\n\u001b[32m----> \u001b[39m\u001b[32m8\u001b[39m \u001b[43mpersonal_info\u001b[49m\u001b[43m.\u001b[49m\u001b[43mNames\u001b[49m\n\u001b[32m     10\u001b[39m \u001b[38;5;28;01mdef\u001b[39;00m\u001b[38;5;250m \u001b[39m\u001b[34mmoney\u001b[39m(x):\n\u001b[32m     11\u001b[39m     \u001b[38;5;28;01mif\u001b[39;00m x > \u001b[32m5\u001b[39m:\n",
      "\u001b[31mAttributeError\u001b[39m: 'dict' object has no attribute 'Names'"
     ]
    }
   ],
   "source": [
    "personal_info = {'Names': 'Batman',\n",
    "    'Real Name': 'Bruce Wayne',\n",
    "    'Age': 55,\n",
    "    'Affiliation': 'Justice League',\n",
    "    'Universe': 'DC'\n",
    "}\n",
    "print( personal_info['Names'])\n",
    "\n",
    "\n",
    "def money(x):\n",
    "    if x > 5:\n",
    "        print( \"x is greater than 5\")\n",
    "    elif x < 4:\n",
    "        print( \"x is smaller than 4\")\n",
    "        \n",
    "    else:\n",
    "        print(\"x is 5\")\n",
    "money(3)"
   ]
  },
  {
   "cell_type": "markdown",
   "id": "4e939fd8",
   "metadata": {},
   "source": [
    "This was taken from the **library**<sup>1</sup>"
   ]
  },
  {
   "cell_type": "markdown",
   "id": "31035789",
   "metadata": {},
   "source": [
    "The *ships* hung in the sky in much the same way that **bricks** don't.<sup>1</sup><sub>QUOTE</sub>"
   ]
  },
  {
   "cell_type": "markdown",
   "id": "646104b4-b5c9-423d-b7e1-8d5e510e4410",
   "metadata": {},
   "source": [
    "### test"
   ]
  },
  {
   "attachments": {},
   "cell_type": "markdown",
   "id": "747c6d7c",
   "metadata": {},
   "source": [
    "# 3 All about Markdown"
   ]
  },
  {
   "attachments": {},
   "cell_type": "markdown",
   "id": "33733995",
   "metadata": {},
   "source": [
    "## 3.1 Rendering Markdown cells"
   ]
  },
  {
   "attachments": {},
   "cell_type": "markdown",
   "id": "d60838b2",
   "metadata": {},
   "source": [
    "## 3.2 Some basic syntax"
   ]
  },
  {
   "attachments": {},
   "cell_type": "markdown",
   "id": "c9193e4d",
   "metadata": {
    "jp-MarkdownHeadingCollapsed": true
   },
   "source": [
    "## 3.3 Headings"
   ]
  },
  {
   "attachments": {},
   "cell_type": "markdown",
   "id": "a8301a37",
   "metadata": {},
   "source": [
    "## 3.4 Displaying Code"
   ]
  },
  {
   "attachments": {},
   "cell_type": "markdown",
   "id": "8022e29e",
   "metadata": {},
   "source": [
    "## 3.5 Links"
   ]
  },
  {
   "cell_type": "markdown",
   "id": "7f7e8d93-13b3-43c1-8690-365033ff67f4",
   "metadata": {},
   "source": [
    "[SPS Website](https://sps.nus.edu.sg/sp2273)"
   ]
  },
  {
   "attachments": {},
   "cell_type": "markdown",
   "id": "8588bfc1",
   "metadata": {},
   "source": [
    "## 3.6 Images"
   ]
  },
  {
   "cell_type": "markdown",
   "id": "4557f902-3a37-4140-9acc-4f84153547d7",
   "metadata": {},
   "source": [
    "![](https://nus.edu.sg/images/default-source/base/logo.png)"
   ]
  },
  {
   "attachments": {},
   "cell_type": "markdown",
   "id": "b49907fd",
   "metadata": {},
   "source": [
    "## 3.7 Tables"
   ]
  },
  {
   "cell_type": "markdown",
   "id": "31a1517f-1e20-42f6-8757-1e5356cdf6b5",
   "metadata": {},
   "source": [
    "| A    |  B   |    C |\n",
    "| :--- | :--: | ---: |\n",
    "| a1   |  b1  |   c1 |\n",
    "| a2   |  b2  |   c2 |\n",
    "| a3   |  b3  |   c3 |"
   ]
  },
  {
   "attachments": {},
   "cell_type": "markdown",
   "id": "6f1e955e",
   "metadata": {
    "jp-MarkdownHeadingCollapsed": true
   },
   "source": [
    "## 3.8 Lists"
   ]
  },
  {
   "attachments": {},
   "cell_type": "markdown",
   "id": "f7de5477",
   "metadata": {},
   "source": [
    "## 3.9 Equations"
   ]
  },
  {
   "cell_type": "markdown",
   "id": "0933ffe3-0485-430b-9e31-c95f1d4cf068",
   "metadata": {},
   "source": [
    "$\\sqrt{b^2-4ac}$"
   ]
  },
  {
   "attachments": {},
   "cell_type": "markdown",
   "id": "0a5bdf8c",
   "metadata": {},
   "source": [
    "## Footnotes"
   ]
  }
 ],
 "metadata": {
  "kernelspec": {
   "display_name": "base",
   "language": "python",
   "name": "python3"
  },
  "language_info": {
   "codemirror_mode": {
    "name": "ipython",
    "version": 3
   },
   "file_extension": ".py",
   "mimetype": "text/x-python",
   "name": "python",
   "nbconvert_exporter": "python",
   "pygments_lexer": "ipython3",
   "version": "3.13.5"
  },
  "toc": {
   "base_numbering": 1,
   "nav_menu": {},
   "number_sections": true,
   "sideBar": true,
   "skip_h1_title": false,
   "title_cell": "Table of Contents",
   "title_sidebar": "Contents",
   "toc_cell": false,
   "toc_position": {},
   "toc_section_display": true,
   "toc_window_display": false
  }
 },
 "nbformat": 4,
 "nbformat_minor": 5
}
