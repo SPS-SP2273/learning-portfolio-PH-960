{
 "cells": [
  {
   "attachments": {},
   "cell_type": "markdown",
   "id": "123456",
   "metadata": {},
   "source": [
    "<div style=\"text-align:left;font-size:2em\"><span style=\"font-weight:bolder;font-size:1.25em\">SP2273 | Learning Portfolio</span><br><br><span style=\"font-weight:bold;color:darkred\">Functions (Good) Exercises</span></div>"
   ]
  },
  {
   "cell_type": "markdown",
   "id": "33891d94",
   "metadata": {},
   "source": [
    "## Exercise 1 (Celsius to Fahrenheit or Kelvin)"
   ]
  },
  {
   "cell_type": "code",
   "execution_count": 11,
   "id": "01b7bbac",
   "metadata": {},
   "outputs": [
    {
     "data": {
      "text/plain": [
       "'This is not a number'"
      ]
     },
     "execution_count": 11,
     "metadata": {},
     "output_type": "execute_result"
    }
   ],
   "source": [
    "def convert_celsius():\n",
    "    temperature_celsius = input(\"What is the temperature at celsius?\")\n",
    "    target_scale = input(\"What is your target scale for conversion?\")\n",
    "    if target_scale == \"Kelvin\":\n",
    "            if temperature_celsius == int:\n",
    "                int(temperature_celsius)\n",
    "                temperature_celsius = temperature_celsius+273\n",
    "            elif temperature_celsius == float:\n",
    "                float(temperature_celsius)\n",
    "                tmperature_celsius = temperature_celsius + 273\n",
    "            else: \n",
    "                return(\"This is not a number\")\n",
    "    else: \n",
    "        temperature_celsius = (temperature_celsius*9/5) + 32\n",
    "convert_celsius()"
   ]
  },
  {
   "cell_type": "markdown",
   "id": "a73174b7",
   "metadata": {},
   "source": [
    "## Exercise 2 (Fahrenheit to Celsius or Kelvin)"
   ]
  },
  {
   "cell_type": "markdown",
   "id": "96b5f1d6",
   "metadata": {},
   "source": [
    "## Exercise 3 (General Temperature Conversion)"
   ]
  }
 ],
 "metadata": {
  "kernelspec": {
   "display_name": "base",
   "language": "python",
   "name": "python3"
  },
  "language_info": {
   "codemirror_mode": {
    "name": "ipython",
    "version": 3
   },
   "file_extension": ".py",
   "mimetype": "text/x-python",
   "name": "python",
   "nbconvert_exporter": "python",
   "pygments_lexer": "ipython3",
   "version": "3.13.5"
  },
  "toc": {
   "base_numbering": 1,
   "nav_menu": {},
   "number_sections": true,
   "sideBar": true,
   "skip_h1_title": false,
   "title_cell": "Table of Contents",
   "title_sidebar": "Contents",
   "toc_cell": false,
   "toc_position": {},
   "toc_section_display": true,
   "toc_window_display": false
  }
 },
 "nbformat": 4,
 "nbformat_minor": 5
}
