{
 "cells": [
  {
   "attachments": {},
   "cell_type": "markdown",
   "id": "123456",
   "metadata": {},
   "source": [
    "<div style=\"text-align:left;font-size:2em\"><span style=\"font-weight:bolder;font-size:1.25em\">SP2273 | Learning Portfolio</span><br><br><span style=\"font-weight:bold;color:darkred\">Functions (Good) Exercises</span></div>"
   ]
  },
  {
   "cell_type": "markdown",
   "id": "33891d94",
   "metadata": {},
   "source": [
    "## Exercise 1 (Celsius to Fahrenheit or Kelvin)"
   ]
  },
  {
   "cell_type": "code",
   "execution_count": 7,
   "id": "89a158f9",
   "metadata": {},
   "outputs": [
    {
     "data": {
      "text/plain": [
       "298.15"
      ]
     },
     "execution_count": 7,
     "metadata": {},
     "output_type": "execute_result"
    }
   ],
   "source": [
    "def convert_celsius(temperature_celsius, target_scale = \"Farenheit\"):\n",
    "    temp = float(temperature_celsius)\n",
    "    if target_scale == \"Kelvin\":\n",
    "        temp = temp + 273.15\n",
    "        return temp\n",
    "    else: \n",
    "        temp = (temp*9/5) + 32\n",
    "        return temp\n",
    "convert_celsius(25, \"Kelvin\")"
   ]
  },
  {
   "cell_type": "markdown",
   "id": "a73174b7",
   "metadata": {},
   "source": [
    "## Exercise 2 (Fahrenheit to Celsius or Kelvin)"
   ]
  },
  {
   "cell_type": "code",
   "execution_count": null,
   "id": "3f8e8cfc",
   "metadata": {},
   "outputs": [
    {
     "name": "stdout",
     "output_type": "stream",
     "text": [
      "310.92777777777775\n"
     ]
    }
   ],
   "source": [
    "def convert_farenheit(temperature_farenheit, target_scale = \"Celsius\"):\n",
    "    tempF = float(temperature_farenheit)\n",
    "    if target_scale == \"Kelvin\":\n",
    "        tempF = (tempF-32)*5/9 + 273.15\n",
    "        return tempF\n",
    "    else: \n",
    "        tempF = (tempF-32)*5/9\n",
    "        return tempF\n",
    "convert_farenheit(100, \"Kelvin\")"
   ]
  },
  {
   "cell_type": "markdown",
   "id": "96b5f1d6",
   "metadata": {},
   "source": [
    "## Exercise 3 (General Temperature Conversion)"
   ]
  },
  {
   "cell_type": "code",
   "execution_count": null,
   "id": "91901c14",
   "metadata": {},
   "outputs": [],
   "source": [
    " if source_scale == \"Celsius\":\n",
    "        if target_scale == \"Celsius\":\n",
    "            return temperature\n",
    "         else: \n",
    "            return convert_celsius(temperature, target_scale)\n",
    "        "
   ]
  },
  {
   "cell_type": "code",
   "execution_count": 12,
   "id": "b573f1d7",
   "metadata": {},
   "outputs": [
    {
     "data": {
      "text/plain": [
       "84.2"
      ]
     },
     "execution_count": 12,
     "metadata": {},
     "output_type": "execute_result"
    }
   ],
   "source": [
    "def convert_temperature(temperature, source_scale,target_scale):\n",
    "    if source_scale and target_scale not in (\"Celsius\", \"Farenheit\", \"Kelvin\"):\n",
    "        print(\"Please use either Celsius, Kelvin or Farenheit\")\n",
    "    else:\n",
    "        if source_scale == \"Celsius\":\n",
    "            if target_scale == \"Celsius\":\n",
    "                return temperature\n",
    "            else:\n",
    "                return convert_celsius(temperature, target_scale)\n",
    "\n",
    "        elif source_scale == \"Fahrenheit\":\n",
    "            if target_scale == \"Farenheit\":\n",
    "                return temperature\n",
    "            else:\n",
    "                return convert_farenheit(temperature, target_scale)\n",
    "\n",
    "        elif source_scale == \"Kelvin\":\n",
    "            tempK = float(temperature)\n",
    "            if target_scale == \"Celsius\":\n",
    "                tempK = tempK - 273.15\n",
    "                return tempK\n",
    "            elif target_scale == \"Farenheit\":\n",
    "                tempK = (tempK - 273.15)*9/5 + 32\n",
    "                return tempK\n",
    "            elif target_scale == \"Kelvin\":\n",
    "                return temperature\n",
    "        \n",
    "\n",
    "convert_temperature(29, \"Celsius\" , \"Farenheit\")\n"
   ]
  }
 ],
 "metadata": {
  "kernelspec": {
   "display_name": "base",
   "language": "python",
   "name": "python3"
  },
  "language_info": {
   "codemirror_mode": {
    "name": "ipython",
    "version": 3
   },
   "file_extension": ".py",
   "mimetype": "text/x-python",
   "name": "python",
   "nbconvert_exporter": "python",
   "pygments_lexer": "ipython3",
   "version": "3.13.5"
  },
  "toc": {
   "base_numbering": 1,
   "nav_menu": {},
   "number_sections": true,
   "sideBar": true,
   "skip_h1_title": false,
   "title_cell": "Table of Contents",
   "title_sidebar": "Contents",
   "toc_cell": false,
   "toc_position": {},
   "toc_section_display": true,
   "toc_window_display": false
  }
 },
 "nbformat": 4,
 "nbformat_minor": 5
}
