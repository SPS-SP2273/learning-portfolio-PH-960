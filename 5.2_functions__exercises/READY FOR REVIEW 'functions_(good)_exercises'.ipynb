{
 "cells": [
  {
   "attachments": {},
   "cell_type": "markdown",
   "id": "123456",
   "metadata": {},
   "source": [
    "<div style=\"text-align:left;font-size:2em\"><span style=\"font-weight:bolder;font-size:1.25em\">SP2273 | Learning Portfolio</span><br><br><span style=\"font-weight:bold;color:darkred\">Functions (Good) Exercises</span></div>"
   ]
  },
  {
   "cell_type": "markdown",
   "id": "33891d94",
   "metadata": {},
   "source": [
    "## Exercise 1 (Celsius to Fahrenheit or Kelvin)"
   ]
  },
  {
   "cell_type": "code",
   "execution_count": 1,
   "id": "89a158f9",
   "metadata": {},
   "outputs": [
    {
     "data": {
      "text/plain": [
       "298.15"
      ]
     },
     "execution_count": 1,
     "metadata": {},
     "output_type": "execute_result"
    }
   ],
   "source": [
    "def convert_celsius(temperature_celsius, target_scale = \"Fahrenheit\"):\n",
    "    temp = float(temperature_celsius)\n",
    "    if target_scale == \"Kelvin\":\n",
    "        temp = temp + 273.15\n",
    "        return temp\n",
    "    else: \n",
    "        temp = (temp*9/5) + 32\n",
    "        return temp\n",
    "convert_celsius(25, \"Kelvin\")"
   ]
  },
  {
   "cell_type": "markdown",
   "id": "a73174b7",
   "metadata": {},
   "source": [
    "## Exercise 2 (Fahrenheit to Celsius or Kelvin)"
   ]
  },
  {
   "cell_type": "code",
   "execution_count": 47,
   "id": "3f8e8cfc",
   "metadata": {},
   "outputs": [
    {
     "data": {
      "text/plain": [
       "310.92777777777775"
      ]
     },
     "execution_count": 47,
     "metadata": {},
     "output_type": "execute_result"
    }
   ],
   "source": [
    "def convert_fahrenheit(temperature_fahrenheit, target_scale = \"Celsius\"):\n",
    "    tempF = float(temperature_fahrenheit)\n",
    "    if target_scale == \"Kelvin\":\n",
    "        return (tempF - 32)*5/9 + 273.15\n",
    "    else: \n",
    "        return (tempF - 32)*5/9\n",
    "convert_fahrenheit(100, \"Kelvin\")"
   ]
  },
  {
   "cell_type": "markdown",
   "id": "96b5f1d6",
   "metadata": {},
   "source": [
    "## Exercise 3 (General Temperature Conversion)"
   ]
  },
  {
   "cell_type": "code",
   "execution_count": 45,
   "id": "b573f1d7",
   "metadata": {},
   "outputs": [
    {
     "data": {
      "text/plain": [
       "84.2"
      ]
     },
     "execution_count": 45,
     "metadata": {},
     "output_type": "execute_result"
    }
   ],
   "source": [
    "def convert_temperature(temperature, source_scale, target_scale):\n",
    "    if source_scale not in (\"Celsius\", \"Farenheit\", \"Kelvin\"):            # checks if source_scale is one of the three scales\n",
    "        print(\"Please use either Celsius, Kelvin or Farenheit\")           # If its not one of the three scales, this error message is printed.\n",
    "    elif target_scale not in (\"Celsius\", \"Farenheit\", \"Kelvin\"):          # checks if target_scale is one of the three scales\n",
    "        print(\"Please use either Celsius, Kelvin or Farenheit\")\n",
    "    else:\n",
    "        if source_scale == target_scale:\n",
    "            return temperature\n",
    "        if source_scale == \"Celsius\":\n",
    "            return convert_celsius(temperature, target_scale)\n",
    "        elif source_scale == \"Fahrenheit\":\n",
    "            return convert_farenheit(temperature, target_scale)\n",
    "        elif source_scale == \"Kelvin\":\n",
    "            tempK = float(temperature)\n",
    "            if target_scale == \"Celsius\":\n",
    "                return tempK - 273.15\n",
    "            elif target_scale == \"Farenheit\":\n",
    "                return (tempK - 273.15)*9/5 + 32\n",
    "\n",
    "convert_temperature(29, \"Celsius\" , \"Farenheit\")"
   ]
  },
  {
   "cell_type": "code",
   "execution_count": null,
   "id": "dc95e188",
   "metadata": {},
   "outputs": [
    {
     "data": {
      "text/plain": [
       "84.2"
      ]
     },
     "execution_count": 60,
     "metadata": {},
     "output_type": "execute_result"
    }
   ],
   "source": [
    "def convert_temperature(temperature, source_scale, target_scale):\n",
    "    scales = (\"Celsius\", \"Fahrenheit\", \"Kelvin\")\n",
    "    if source_scale not in scales or target_scale not in scales:           # checks if source_scale and target_scale are one of the three scales\n",
    "        print(\"Please use either Celsius, Kelvin or Fahrenheit\")           # If its not one of the three scales, this error message is printed.\n",
    "    else:\n",
    "        if source_scale == target_scale:\n",
    "            return temperature\n",
    "        if source_scale == \"Celsius\":\n",
    "            return convert_celsius(temperature, target_scale)\n",
    "        elif source_scale == \"Fahrenheit\":\n",
    "            return convert_fahrenheit(temperature, target_scale)\n",
    "        elif source_scale == \"Kelvin\":\n",
    "            tempK = float(temperature)\n",
    "            if target_scale == \"Celsius\":\n",
    "                return tempK - 273.15\n",
    "            elif target_scale == \"Fahrenheit\":\n",
    "                return (tempK - 273.15)*9/5 + 32\n",
    "\n",
    "convert_temperature(29, \"Celsius\" , \"Fahrenheit\")"
   ]
  }
 ],
 "metadata": {
  "kernelspec": {
   "display_name": "base",
   "language": "python",
   "name": "python3"
  },
  "language_info": {
   "codemirror_mode": {
    "name": "ipython",
    "version": 3
   },
   "file_extension": ".py",
   "mimetype": "text/x-python",
   "name": "python",
   "nbconvert_exporter": "python",
   "pygments_lexer": "ipython3",
   "version": "3.13.5"
  },
  "toc": {
   "base_numbering": 1,
   "nav_menu": {},
   "number_sections": true,
   "sideBar": true,
   "skip_h1_title": false,
   "title_cell": "Table of Contents",
   "title_sidebar": "Contents",
   "toc_cell": false,
   "toc_position": {},
   "toc_section_display": true,
   "toc_window_display": false
  }
 },
 "nbformat": 4,
 "nbformat_minor": 5
}
