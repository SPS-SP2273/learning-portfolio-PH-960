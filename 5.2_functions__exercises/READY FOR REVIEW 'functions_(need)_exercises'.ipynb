{
 "cells": [
  {
   "attachments": {},
   "cell_type": "markdown",
   "id": "123456",
   "metadata": {},
   "source": [
    "<div style=\"text-align:left;font-size:2em\"><span style=\"font-weight:bolder;font-size:1.25em\">SP2273 | Learning Portfolio</span><br><br><span style=\"font-weight:bold;color:darkred\">Functions (Need) Exercises</span></div>"
   ]
  },
  {
   "cell_type": "markdown",
   "id": "a458f8a6",
   "metadata": {
    "vscode": {
     "languageId": "plaintext"
    }
   },
   "source": [
    "## Exercise 1\n"
   ]
  },
  {
   "cell_type": "code",
   "execution_count": 3,
   "id": "c5277881",
   "metadata": {},
   "outputs": [],
   "source": [
    "def greeting(name):\n",
    "    if name == 'Batman':\n",
    "        return 'Hello Batman! So, nice to meet you!'\n",
    "    return f'Hello {name}!'"
   ]
  },
  {
   "cell_type": "markdown",
   "id": "212a7cd1",
   "metadata": {},
   "source": [
    "\"return\" is a keyword that immediately ends the execution of the function and gives a specific output/return value, which is the name in this case. Any code following the 'return' within the function will not be executed. Hence, it can be used as an alternative to 'else'."
   ]
  },
  {
   "cell_type": "markdown",
   "id": "79e19f09",
   "metadata": {},
   "source": [
    "## Exercise 2"
   ]
  },
  {
   "cell_type": "code",
   "execution_count": 22,
   "id": "24f34288",
   "metadata": {},
   "outputs": [
    {
     "name": "stdout",
     "output_type": "stream",
     "text": [
      "Your BMI is 24.221453287197235 \n",
      "Your BMI category is Normal weight\n"
     ]
    }
   ],
   "source": [
    "def calculate_bmi():\n",
    "    weight = input('What is your weight in kg?')\n",
    "    height = input('What is your height in metres?')\n",
    "    weight = float(weight)\n",
    "    height = float(height)\n",
    "    BMI = weight/(height ** 2)\n",
    "    if BMI < 18.5:\n",
    "        category = \"Underweight\"\n",
    "    elif 18.5<=BMI<=24.9:\n",
    "        category = \"Normal weight\"\n",
    "    elif 25 <= BMI <= 29.9:\n",
    "        category = \"Overweight\"\n",
    "    else:\n",
    "        category = \"Obese\"\n",
    "    print('Your BMI is' , BMI , '\\nYour BMI category is' , category )\n",
    "\n",
    "calculate_bmi()\n"
   ]
  },
  {
   "cell_type": "code",
   "execution_count": null,
   "id": "622d36b3",
   "metadata": {},
   "outputs": [
    {
     "name": "stdout",
     "output_type": "stream",
     "text": [
      "Your BMI is 24.221453287197235 \n",
      "Your BMI category is Normal weight\n"
     ]
    }
   ],
   "source": [
    "def calculate_bmi(weight, height):                                              # Another method for exercise 2\n",
    "    weight = float(weight)\n",
    "    height = float(height)\n",
    "    BMI = weight/(height ** 2)\n",
    "    if BMI < 18.5:\n",
    "        category = \"Underweight\"\n",
    "    elif 18.5<=BMI<=24.9:\n",
    "        category = \"Normal weight\"\n",
    "    elif 25 <= BMI <= 29.9:\n",
    "        category = \"Overweight\"\n",
    "    else:\n",
    "        category = \"Obese\"\n",
    "    print('Your BMI is' , BMI , '\\nYour BMI category is' , category )\n",
    "\n",
    "calculate_bmi(70,1.7)"
   ]
  },
  {
   "cell_type": "markdown",
   "id": "3237f952",
   "metadata": {},
   "source": [
    "## Exercise 3"
   ]
  },
  {
   "cell_type": "code",
   "execution_count": 3,
   "id": "5baf2aba",
   "metadata": {},
   "outputs": [
    {
     "name": "stdout",
     "output_type": "stream",
     "text": [
      "120\n"
     ]
    }
   ],
   "source": [
    "import numpy as np\n",
    "def factorial(n):\n",
    "    if type(n) == int:\n",
    "        if n > 0:\n",
    "            result = 1\n",
    "            for number in np.arange(1, n+1):\n",
    "               result *= number\n",
    "            print(result) \n",
    "        elif n < 0: \n",
    "           print(\"Invalid input: This function cannot be used for negative values\")\n",
    "        else:\n",
    "            print(\"1\") \n",
    "    else:\n",
    "        print(\"Number is not an integer\")\n",
    "        \n",
    "factorial(5)"
   ]
  }
 ],
 "metadata": {
  "kernelspec": {
   "display_name": "base",
   "language": "python",
   "name": "python3"
  },
  "language_info": {
   "codemirror_mode": {
    "name": "ipython",
    "version": 3
   },
   "file_extension": ".py",
   "mimetype": "text/x-python",
   "name": "python",
   "nbconvert_exporter": "python",
   "pygments_lexer": "ipython3",
   "version": "3.13.5"
  },
  "toc": {
   "base_numbering": 1,
   "nav_menu": {},
   "number_sections": true,
   "sideBar": true,
   "skip_h1_title": false,
   "title_cell": "Table of Contents",
   "title_sidebar": "Contents",
   "toc_cell": false,
   "toc_position": {},
   "toc_section_display": true,
   "toc_window_display": false
  }
 },
 "nbformat": 4,
 "nbformat_minor": 5
}
