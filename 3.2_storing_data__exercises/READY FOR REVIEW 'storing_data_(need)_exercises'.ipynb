{
 "cells": [
  {
   "attachments": {},
   "cell_type": "markdown",
   "id": "123456",
   "metadata": {},
   "source": [
    "<div style=\"text-align:left;font-size:2em\"><span style=\"font-weight:bolder;font-size:1.25em\">SP2273 | Learning Portfolio</span><br><br><span style=\"font-weight:bold;color:darkred\">Storing Data (Need) Exercises</span></div>"
   ]
  },
  {
   "cell_type": "markdown",
   "id": "7ece6559",
   "metadata": {},
   "source": [
    "## Exercise 1"
   ]
  },
  {
   "cell_type": "markdown",
   "id": "db87c741",
   "metadata": {},
   "source": [
    "**Similarities:** \n",
    "1. Both lists and arrays are tools used to store data in an organised and concise manner, so that it's easier to reference in the future.\n",
    "1. Both lists and arrays are organised sequentially (i.e. Each element has a specific position and that particular position must be mentioned to get the corresponding element as an output)\n",
    "\n",
    "**Differences:**\n",
    "1. When two numerical lists are added together (list_1 + list_2), the outcome is a list containing the elements of list_1 and list_2 individually. However, when two numerical arrays are added together (np.array_1 + np.array_2), the numerical elements are added together at their respective positions, forming a sum of the corresponding elements at each position.\n",
    "1. When combining two arrays together, the arrays generally must be in the same format (containing the same number of elements in the same type). When it comes to lists, lists can be combined together even if the lists have a different number of elements, or dissimilar classes.\n",
    "\n",
    "*(Arrays of different sizes can undergo broadcasting to be combined together. Arrays with elements of different types can also be combined, so long as the types can work with each other. Though, an array can only have a single type within them)*\n",
    "\n",
    "**What is a dictionary?**\n",
    "1. It stores data in a key:value format, in which values and keys can be of any class type. Values can be obtained by refencing its corresponding key. (e.g. dictionary_1[\"key\"]) It can be modified in ways such as adding and removing key:value pairs. *A dictionary holds both the key and value elements in a single structure, while it requires two lists/arrays for the same data.*"
   ]
  },
  {
   "cell_type": "markdown",
   "id": "0bbda74e",
   "metadata": {},
   "source": [
    "## Exercise 2"
   ]
  },
  {
   "cell_type": "code",
   "execution_count": 3,
   "id": "d3c3fea6",
   "metadata": {},
   "outputs": [
    {
     "name": "stdout",
     "output_type": "stream",
     "text": [
      "a1\n",
      "c3\n",
      "e5\n",
      "g7\n",
      "i9\n"
     ]
    }
   ],
   "source": [
    "py_list = [\"a1\", \"b2\", \"c3\", \"d4\", \"e5\", \"f6\", \"g7\", \"h8\", \"i9\", \"j10\"]\n",
    "print(py_list[0])   # Prints 'a1'\n",
    "print(py_list[2])   # Prints 'c3'\n",
    "print(py_list[4])   # Prints 'e5'\n",
    "print(py_list[6])   # Prints 'g7'\n",
    "print(py_list[8])   # Prints 'i9'           # Also able to use print(py_list[::2]) for all odd elements"
   ]
  },
  {
   "cell_type": "markdown",
   "id": "75a49518",
   "metadata": {},
   "source": [
    "## Exercise 3"
   ]
  },
  {
   "cell_type": "code",
   "execution_count": null,
   "id": "e6de6305",
   "metadata": {},
   "outputs": [
    {
     "name": "stdout",
     "output_type": "stream",
     "text": [
      "Boron\n",
      "Boron\n"
     ]
    }
   ],
   "source": [
    "elements = ['Hydrogen',\n",
    "            'Helium', 'Lithium',\n",
    "            'Beryllium', 'Boron', 'Carbon',\n",
    "            'Nitrogen', 'Oxygen',\n",
    "            'Fluorine',\n",
    "            'Neon']\n",
    "print(elements[4])          # Element at index 4 using forward indexing (boron)\n",
    "print(elements[-6])         # Element at index 4 using reverse indexing (boron)"
   ]
  },
  {
   "cell_type": "markdown",
   "id": "1788ad68",
   "metadata": {},
   "source": [
    "## Exercise 4"
   ]
  },
  {
   "cell_type": "code",
   "execution_count": 6,
   "id": "81dd84e1",
   "metadata": {},
   "outputs": [],
   "source": [
    "import numpy as np"
   ]
  },
  {
   "cell_type": "code",
   "execution_count": 6,
   "id": "90fa1479",
   "metadata": {},
   "outputs": [
    {
     "data": {
      "text/plain": [
       "np.int64(9)"
      ]
     },
     "execution_count": 6,
     "metadata": {},
     "output_type": "execute_result"
    }
   ],
   "source": [
    "numbers=[45, 60, 1, 30, 96, 1, 96, 57, 16, 1,\n",
    "        99, 62, 86, 43, 42, 60, 59, 1, 1, 35,\n",
    "        83, 47, 34, 28, 68, 23, 22, 92, 1, 79,\n",
    "        1, 29, 94, 72, 46, 47, 1, 74, 32, 20,\n",
    "        8, 37, 35, 1, 89, 29, 86, 19, 43, 61]                  \n",
    "\n",
    "array = np.array(numbers)\n",
    "sum(array==1)                                             # Also able to use \"mask = array == 1\n",
    "                                                                        #    array[mask].sum()\""
   ]
  },
  {
   "cell_type": "markdown",
   "id": "668afe3d",
   "metadata": {},
   "source": [
    "## Exercise 5"
   ]
  },
  {
   "cell_type": "code",
   "execution_count": null,
   "id": "6c9def72",
   "metadata": {},
   "outputs": [
    {
     "name": "stdout",
     "output_type": "stream",
     "text": [
      "104362.5\n",
      "105717.8383540356\n"
     ]
    }
   ],
   "source": [
    "numerator0 = np.sum(((x1)-(np.mean(x1)))**2)                                            \n",
    "numerator = np.sum((x1-np.mean(x1))*(x2-np.mean(x2)))\n",
    "print(numerator)\n",
    "denominator = np.sqrt((np.sum(((x1)-(np.mean(x1)))**2))*(np.sum(((x2)-(np.mean(x2)))**2)))\n",
    "print(denominator)                                               \n",
    "# this is just to test the functionality of separate parts of my code"
   ]
  },
  {
   "cell_type": "code",
   "execution_count": 11,
   "id": "df7b319c",
   "metadata": {},
   "outputs": [
    {
     "name": "stdout",
     "output_type": "stream",
     "text": [
      "The mean of x1 is 38.5\n",
      "The mean of x2 is 302.5\n",
      "The standard deviation of x1 is 32.41990129534635\n",
      "The standard deviation of x2 is 326.0893282522444\n",
      "Pearson Correlation Coefficient r is equal to 0.9871796626270701\n",
      "According to numpy function, r is equal to [[1.         0.98717966]\n",
      " [0.98717966 1.        ]]\n"
     ]
    }
   ],
   "source": [
    "x_1 = [1, 4, 9, 16, 25, 36, 49, 64, 81, 100]\n",
    "x_2 = [1, 8, 27, 64, 125, 216, 343, 512, 729, 1000]\n",
    "\n",
    "x1 = np.array(x_1)\n",
    "x2 = np.array(x_2)\n",
    "print(\"The mean of x1 is\" , np.mean(x1))\n",
    "print(\"The mean of x2 is\" , np.mean(x2))\n",
    "\n",
    "print(\"The standard deviation of x1 is\" , np.std(x1))\n",
    "print(\"The standard deviation of x2 is\" , np.std(x2))\n",
    "\n",
    "numerator = np.sum((x1 - np.mean(x1))*(x2 - np.mean(x2)))\n",
    "denominator = np.sqrt((np.sum(((x1)-(np.mean(x1)))**2))*(np.sum(((x2)-(np.mean(x2)))**2)))\n",
    "\n",
    "r = numerator/denominator\n",
    "print(\"Pearson Correlation Coefficient r is equal to\", r )\n",
    "print(\"According to numpy function, r is equal to\" , np.corrcoef(x1,x2))           \n",
    "         # The values are almost the same, apart from number of decimal places shown"
   ]
  },
  {
   "cell_type": "markdown",
   "id": "0752dfcd",
   "metadata": {},
   "source": [
    "A 2x2 matrix is obtained from np.corrcoef. \n",
    "The matrix is written in the form \n",
    "[corr(x1,x1), corr(x1,x2)\n",
    " corr(x1,x2), corr(x2,x2)]\n",
    "The diagonal elements will always be one, as a variable is perfectly correlated with itself\n",
    "The off diagonal elements will then represent the correlation coefficient between the two data sets."
   ]
  }
 ],
 "metadata": {
  "kernelspec": {
   "display_name": "base",
   "language": "python",
   "name": "python3"
  },
  "language_info": {
   "codemirror_mode": {
    "name": "ipython",
    "version": 3
   },
   "file_extension": ".py",
   "mimetype": "text/x-python",
   "name": "python",
   "nbconvert_exporter": "python",
   "pygments_lexer": "ipython3",
   "version": "3.13.5"
  },
  "toc": {
   "base_numbering": 1,
   "nav_menu": {},
   "number_sections": true,
   "sideBar": true,
   "skip_h1_title": false,
   "title_cell": "Table of Contents",
   "title_sidebar": "Contents",
   "toc_cell": false,
   "toc_position": {},
   "toc_section_display": true,
   "toc_window_display": false
  }
 },
 "nbformat": 4,
 "nbformat_minor": 5
}
