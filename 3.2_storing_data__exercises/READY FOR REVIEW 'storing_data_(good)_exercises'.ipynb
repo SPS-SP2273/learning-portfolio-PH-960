{
 "cells": [
  {
   "attachments": {},
   "cell_type": "markdown",
   "id": "123456",
   "metadata": {},
   "source": [
    "<div style=\"text-align:left;font-size:2em\"><span style=\"font-weight:bolder;font-size:1.25em\">SP2273 | Learning Portfolio</span><br><br><span style=\"font-weight:bold;color:darkred\">Storing Data (Good) Exercises</span></div>"
   ]
  },
  {
   "cell_type": "markdown",
   "id": "b21db313",
   "metadata": {},
   "source": [
    "## Exercise 1"
   ]
  },
  {
   "cell_type": "markdown",
   "id": "de7c0c39",
   "metadata": {},
   "source": [
    "| **Term**     |  **Brief Description**  |\n",
    "| :--- | :--: |\n",
    "| Subsetting   |  It refers to the utilisation of only a subsection of a list or array, instead of the entire data collection, in functions. |\n",
    "| Indexing   |  It is a form of subsetting, in which a single element in a list/array is used in a called function. (e.g. list[1])  |\n",
    "| Slicing   |  It is a form of subsetting, in which a range of elements in a list/array is used in a called function. (e.g. list[1:4]) | \n",
    "| Masking   |  When given a condition to follow, elements will return Boolean values of \"True\" or 'False'. The elements can then be sieved, such that all elements that satisfy that condiiton, and return a \"True\" value, will be shown in the array and used for downstream functions. On the other hand, elements that do not satisfy the condition are not shown in the array and will not be used in functions. (e.g np.array[mask] to only contain elements that satisfy the condition)"
   ]
  },
  {
   "cell_type": "markdown",
   "id": "0db1ca0a",
   "metadata": {},
   "source": [
    "## Exercise 2"
   ]
  },
  {
   "cell_type": "code",
   "execution_count": 2,
   "id": "40bf807d",
   "metadata": {},
   "outputs": [
    {
     "name": "stdout",
     "output_type": "stream",
     "text": [
      "['1' '3' '2' '4' '5' '7' '6' '8' '10' '9']\n",
      "[ 1  3  2  4  5  7  6  8 10  9]\n",
      "[1 1 0 0 1 1 0 0 0 1]\n",
      "[ True  True False False  True  True False False False  True]\n",
      "['A' 'C' 'E' 'G' 'I']\n"
     ]
    }
   ],
   "source": [
    "import numpy as np\n",
    "np_array_2d = np.array([[1, \"A\"], [3, \"C\"], [2, \"B\"], [4, \"D\"],\n",
    "                        [5, \"E\"], [7, \"G\"], [6, \"F\"], [8, \"H\"],\n",
    "                        [10, \"J\"], [9, \"I\"]])\n",
    "\n",
    "First_elements = np_array_2d[: , 0]                         # To create a subset of the first elements\n",
    "print(First_elements)                                       # Print function is used just to show the change in arrays\n",
    "\n",
    "Integer = First_elements.astype(int)                        # To change the elements into integer form\n",
    "print(Integer)\n",
    "\n",
    "Binary_array = Integer%2                                    # To calculate the remainder of each element to determine if it's even or odd\n",
    "print(Binary_array)\n",
    "\n",
    "mask = Binary_array == 1                                    # To choose elements that are 1\n",
    "print(mask)\n",
    "\n",
    "Letter_array = np_array_2d[mask]                            # To choose the pairs that have 1 as their first element\n",
    "print(Letter_array[: , 1])                                  # To select the second element \n"
   ]
  },
  {
   "cell_type": "markdown",
   "id": "ce6199b8",
   "metadata": {},
   "source": [
    "## Exercise 3"
   ]
  },
  {
   "cell_type": "code",
   "execution_count": null,
   "id": "279c0616",
   "metadata": {},
   "outputs": [
    {
     "name": "stdout",
     "output_type": "stream",
     "text": [
      "[[ 1  0  1 -1 -1]\n",
      " [ 1 -1  1 -1 -1]\n",
      " [ 1 -1 -1  1 -1]\n",
      " [-1  1  1 -1 -1]\n",
      " [ 1 -1  1 -1  1]]\n"
     ]
    }
   ],
   "source": [
    "np_array = np.array([[66, 50, 57, -1, -1],\n",
    " [92, -1, 88, -1, -1],\n",
    " [75, -1, -1, 76, -1],\n",
    " [-1, 51, 87, -1, -1],\n",
    " [71, -1, 67, -1, 69]]) \n",
    "                                                                # Since there are no values below 50, I can start to modify the other values\n",
    "AboveFifty = np_array > 50\n",
    "np_array[AboveFifty] = 1                                        # Takes all values that give \"True\" and changes them to one\n",
    "\n",
    "EqualFifty = np_array == 50\n",
    "np_array[EqualFifty] = 0                                        # Takes all values that give \"True\" and changes them to zero\n",
    "print(np_array)"
   ]
  }
 ],
 "metadata": {
  "kernelspec": {
   "display_name": "base",
   "language": "python",
   "name": "python3"
  },
  "language_info": {
   "codemirror_mode": {
    "name": "ipython",
    "version": 3
   },
   "file_extension": ".py",
   "mimetype": "text/x-python",
   "name": "python",
   "nbconvert_exporter": "python",
   "pygments_lexer": "ipython3",
   "version": "3.13.5"
  },
  "toc": {
   "base_numbering": 1,
   "nav_menu": {},
   "number_sections": true,
   "sideBar": true,
   "skip_h1_title": false,
   "title_cell": "Table of Contents",
   "title_sidebar": "Contents",
   "toc_cell": false,
   "toc_position": {},
   "toc_section_display": true,
   "toc_window_display": false
  }
 },
 "nbformat": 4,
 "nbformat_minor": 5
}
