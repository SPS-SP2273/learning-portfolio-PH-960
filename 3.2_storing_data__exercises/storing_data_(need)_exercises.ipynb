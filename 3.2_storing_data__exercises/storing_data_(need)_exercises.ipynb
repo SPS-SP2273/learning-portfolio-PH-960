{
 "cells": [
  {
   "attachments": {},
   "cell_type": "markdown",
   "id": "123456",
   "metadata": {},
   "source": [
    "<div style=\"text-align:left;font-size:2em\"><span style=\"font-weight:bolder;font-size:1.25em\">SP2273 | Learning Portfolio</span><br><br><span style=\"font-weight:bold;color:darkred\">Storing Data (Need) Exercises</span></div>"
   ]
  },
  {
   "cell_type": "markdown",
   "id": "7ece6559",
   "metadata": {},
   "source": [
    "## Exercise 1"
   ]
  },
  {
   "cell_type": "markdown",
   "id": "db87c741",
   "metadata": {},
   "source": [
    "Similarities: \n",
    "1. Both lists and arrays are tools used to store data in an organised and concise manner, so that it's easier to reference in the future.\n",
    "1. Both lists and arrays are organised sequentially (i.e. Each element has a specific position and that particular position must be mentioned to get the corresponding element as an output)\n",
    "\n",
    "Differences:\n",
    "1. When two numerical lists are added together (list_1 + list_2), the outcome is a list containing the elements of list_1 and list_2 individually. However, when two numerical arrays are added together (np.array_1 + np.array_2), the numerical elements are added together at their respective positions, forming a sum of the corresponding elements at each position.\n",
    "1. When combining two arrays together, the arrays must be in the exact same format (containing the same number of elements in the same type). When it comes to lists, lists can be combined together even if the lists have a different number of elements, or dissimilar classes."
   ]
  },
  {
   "cell_type": "markdown",
   "id": "0bbda74e",
   "metadata": {},
   "source": [
    "## Exercise 2"
   ]
  },
  {
   "cell_type": "code",
   "execution_count": 4,
   "id": "d3c3fea6",
   "metadata": {},
   "outputs": [
    {
     "name": "stdout",
     "output_type": "stream",
     "text": [
      "a1\n",
      "c3\n",
      "e5\n",
      "g7\n",
      "i9\n"
     ]
    }
   ],
   "source": [
    "py_list = [\"a1\", \"b2\", \"c3\", \"d4\", \"e5\", \"f6\", \"g7\", \"h8\", \"i9\", \"j10\"]\n",
    "print(py_list[0])   # Prints 'a1'\n",
    "print(py_list[2])   # Prints 'c3'\n",
    "print(py_list[4])   # Prints 'e5'\n",
    "print(py_list[6])   # Prints 'g7'\n",
    "print(py_list[8])   # Prints 'i9'           # Also able to use print(py_list[::2]) for all odd elements"
   ]
  },
  {
   "cell_type": "markdown",
   "id": "75a49518",
   "metadata": {},
   "source": [
    "## Exercise 3"
   ]
  },
  {
   "cell_type": "code",
   "execution_count": null,
   "id": "e6de6305",
   "metadata": {},
   "outputs": [
    {
     "name": "stdout",
     "output_type": "stream",
     "text": [
      "Boron\n",
      "Nitrogen\n"
     ]
    }
   ],
   "source": [
    "elements = ['Hydrogen',\n",
    "            'Helium', 'Lithium',\n",
    "            'Beryllium', 'Boron', 'Carbon',\n",
    "            'Nitrogen', 'Oxygen',\n",
    "            'Fluorine',\n",
    "            'Neon']\n",
    "print(elements[4])          # Element at index 4 using forward indexing\n",
    "print(elements[-4])         # Element at index 4 using reverse indexing"
   ]
  },
  {
   "cell_type": "markdown",
   "id": "1788ad68",
   "metadata": {},
   "source": [
    "## Exercise 4"
   ]
  },
  {
   "cell_type": "code",
   "execution_count": 12,
   "id": "81dd84e1",
   "metadata": {},
   "outputs": [],
   "source": [
    "import numpy as np"
   ]
  },
  {
   "cell_type": "code",
   "execution_count": null,
   "id": "90fa1479",
   "metadata": {},
   "outputs": [
    {
     "data": {
      "text/plain": [
       "np.int64(9)"
      ]
     },
     "execution_count": 19,
     "metadata": {},
     "output_type": "execute_result"
    }
   ],
   "source": [
    "numbers=[45, 60, 1, 30, 96, 1, 96, 57, 16, 1,\n",
    "        99, 62, 86, 43, 42, 60, 59, 1, 1, 35,\n",
    "        83, 47, 34, 28, 68, 23, 22, 92, 1, 79,\n",
    "        1, 29, 94, 72, 46, 47, 1, 74, 32, 20,\n",
    "        8, 37, 35, 1, 89, 29, 86, 19, 43, 61]                  \n",
    "\n",
    "array = np.array(numbers)\n",
    "sum(array==1)                                             # Also able to use \"mask = array == 1\n",
    "                                                                        #    array[mask].sum()\""
   ]
  },
  {
   "cell_type": "markdown",
   "id": "668afe3d",
   "metadata": {},
   "source": [
    "## Exercise 5"
   ]
  },
  {
   "cell_type": "code",
   "execution_count": 27,
   "id": "df7b319c",
   "metadata": {},
   "outputs": [
    {
     "name": "stdout",
     "output_type": "stream",
     "text": [
      "The mean of x1 is 38.5\n",
      "The mean of x2 is 302.5\n",
      "The standard deviation of x1 is 32.41990129534635\n",
      "The standard deviation of x2 is 326.0893282522444\n"
     ]
    },
    {
     "name": "stderr",
     "output_type": "stream",
     "text": [
      "<>:12: SyntaxWarning: 'int' object is not callable; perhaps you missed a comma?\n",
      "C:\\Users\\User\\AppData\\Local\\Temp\\ipykernel_5400\\1808290390.py:12: SyntaxWarning: 'int' object is not callable; perhaps you missed a comma?\n",
      "  r = (np.sum((x1 - np.mean(x1))*(x_2-np.mean(x_2))))/(np.sqrt(np.sum(x1-np.mean(x1))*2(np.sum(x2-np.mean(x2))*2)))\n"
     ]
    },
    {
     "ename": "TypeError",
     "evalue": "'int' object is not callable",
     "output_type": "error",
     "traceback": [
      "\u001b[31m---------------------------------------------------------------------------\u001b[39m",
      "\u001b[31mTypeError\u001b[39m                                 Traceback (most recent call last)",
      "\u001b[36mCell\u001b[39m\u001b[36m \u001b[39m\u001b[32mIn[27]\u001b[39m\u001b[32m, line 12\u001b[39m\n\u001b[32m      9\u001b[39m \u001b[38;5;28mprint\u001b[39m(\u001b[33m\"\u001b[39m\u001b[33mThe standard deviation of x1 is\u001b[39m\u001b[33m\"\u001b[39m , np.std(x1))\n\u001b[32m     10\u001b[39m \u001b[38;5;28mprint\u001b[39m(\u001b[33m\"\u001b[39m\u001b[33mThe standard deviation of x2 is\u001b[39m\u001b[33m\"\u001b[39m , np.std(x2))\n\u001b[32m---> \u001b[39m\u001b[32m12\u001b[39m r = (np.sum((x1 - np.mean(x1))*(x_2-np.mean(x_2))))/(np.sqrt(np.sum(x1-np.mean(x1))*\u001b[32;43m2\u001b[39;49m\u001b[43m(\u001b[49m\u001b[43mnp\u001b[49m\u001b[43m.\u001b[49m\u001b[43msum\u001b[49m\u001b[43m(\u001b[49m\u001b[43mx2\u001b[49m\u001b[43m-\u001b[49m\u001b[43mnp\u001b[49m\u001b[43m.\u001b[49m\u001b[43mmean\u001b[49m\u001b[43m(\u001b[49m\u001b[43mx2\u001b[49m\u001b[43m)\u001b[49m\u001b[43m)\u001b[49m\u001b[43m*\u001b[49m\u001b[32;43m2\u001b[39;49m\u001b[43m)\u001b[49m))\n",
      "\u001b[31mTypeError\u001b[39m: 'int' object is not callable"
     ]
    }
   ],
   "source": [
    "x_1 = [1, 4, 9, 16, 25, 36, 49, 64, 81, 100]\n",
    "x_2 = [1, 8, 27, 64, 125, 216, 343, 512, 729, 1000]\n",
    "\n",
    "x1 = np.array(x_1)\n",
    "x2= np.array(x_2)\n",
    "print(\"The mean of x1 is\" , np.mean(x1))\n",
    "print(\"The mean of x2 is\" , np.mean(x2))\n",
    "\n",
    "print(\"The standard deviation of x1 is\" , np.std(x1))\n",
    "print(\"The standard deviation of x2 is\" , np.std(x2))\n",
    "\n",
    "r = (np.sum((x1 - np.mean(x1))*(x_2-np.mean(x_2))))/(np.sqrt(np.sum(x1-np.mean(x1))*2(np.sum(x2-np.mean(x2))*2)))"
   ]
  }
 ],
 "metadata": {
  "kernelspec": {
   "display_name": "base",
   "language": "python",
   "name": "python3"
  },
  "language_info": {
   "codemirror_mode": {
    "name": "ipython",
    "version": 3
   },
   "file_extension": ".py",
   "mimetype": "text/x-python",
   "name": "python",
   "nbconvert_exporter": "python",
   "pygments_lexer": "ipython3",
   "version": "3.13.5"
  },
  "toc": {
   "base_numbering": 1,
   "nav_menu": {},
   "number_sections": true,
   "sideBar": true,
   "skip_h1_title": false,
   "title_cell": "Table of Contents",
   "title_sidebar": "Contents",
   "toc_cell": false,
   "toc_position": {},
   "toc_section_display": true,
   "toc_window_display": false
  }
 },
 "nbformat": 4,
 "nbformat_minor": 5
}
