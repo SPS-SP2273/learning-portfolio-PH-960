{
 "cells": [
  {
   "attachments": {},
   "cell_type": "markdown",
   "id": "123456",
   "metadata": {},
   "source": [
    "<div style=\"text-align:left;font-size:2em\"><span style=\"font-weight:bolder;font-size:1.25em\">SP2273 | Learning Portfolio</span><br><br><span style=\"font-weight:bold;color:darkred\">Fundamentals (Need) Exercises</span></div>"
   ]
  },
  {
   "cell_type": "markdown",
   "id": "e1d510fa",
   "metadata": {},
   "source": [
    "## Exercise 1 (Total Recall?)"
   ]
  },
  {
   "cell_type": "markdown",
   "id": "eb840a18",
   "metadata": {},
   "source": [
    "List of Python features: \n",
    "1. print, dictionary (used to store data), numpy, math, case sensitivity, comments (using #), = vs ==, if, else, \n",
    "1. *exit()*, *Python is interpreted one command at a time*, *split()*"
   ]
  },
  {
   "cell_type": "markdown",
   "id": "95622d2a",
   "metadata": {},
   "source": [
    "## Exercise 2 (Debug Me)\n"
   ]
  },
  {
   "cell_type": "code",
   "execution_count": null,
   "id": "d69862f3",
   "metadata": {},
   "outputs": [
    {
     "name": "stdout",
     "output_type": "stream",
     "text": [
      "3 4 5.0\n"
     ]
    }
   ],
   "source": [
    "import numpy as np\n",
    "x, y = 3, 4\n",
    "z = np.sqrt(x**2 + y**2) \n",
    "print(x, y, z)"
   ]
  },
  {
   "cell_type": "code",
   "execution_count": null,
   "id": "8bf68b9c",
   "metadata": {},
   "outputs": [
    {
     "name": "stdout",
     "output_type": "stream",
     "text": [
      "3 4 5\n"
     ]
    }
   ],
   "source": [
    "x, y = 3, 4\n",
    "z = np.sqrt(x**2 + y**2) \n",
    "print(x, y, f'{z:.0f}')             # Alternative answer without decimal place"
   ]
  },
  {
   "cell_type": "markdown",
   "id": "af3f13ac",
   "metadata": {},
   "source": [
    "## Exercise 3 (In your own words)"
   ]
  },
  {
   "cell_type": "markdown",
   "id": "35108120",
   "metadata": {},
   "source": [
    "| #    |  Term   |    Description |\n",
    "| :--- | :--: | :---: |\n",
    "| 1   |  Function  |   It produces an action in the code based on its type. (e.g. print())  |\n",
    "| 2   |  Arguments  | It is the value that is inputted into a function when the function is executed.   |\n",
    "| 3   |  Comments  |   It is a way of explaining the thought-process behind someone's code to achieve transparency (using #)  |\n",
    "| 4   |  Indentations  |   It is a blank space used in code blocks to indicate that a specific part of code belongs to a certain function, separating the code from the overall sequence. (e.g. used for functions like if, while, for)\n",
    "| 5   |  Packages |   It is a storage system for special modules, which contain unique functions, that are not internal Python functions like print(). It requires import statements to be utilised, in order to prevent unnecessary namespace cluttering. (example: numpy)\n",
    "| 6   |  . |The dot is used to indicate ownership and states what functions belong to which module or variable.  |\n",
    "| 7   |  :  |  It signals the start of an indented code block, and begins executing the rest of the code that is part of the indented code block. Examples include conditonal functions like 'if' and loop functions like 'for' . The colon is also used in the indexing and slicing of a list or array (e.g. list[startpoint:endpoint:step] )   |\n",
    "| 8   |  []  |   It is a list that is used to store data, which can be modified with functions. |\n",
    "| 9   |  [[],[]]  |   It is a list containing two different lists within itself. |\n",
    "| 10   |  {}  |   It is used to in dictionaries that store data through a key:value pair. It is also used in f-strings to enclose expressions.|"
   ]
  },
  {
   "cell_type": "markdown",
   "id": "896e37a7",
   "metadata": {},
   "source": [
    "## Exercise 4 (More than one way to divide)"
   ]
  },
  {
   "cell_type": "code",
   "execution_count": null,
   "id": "9bcf6bc6",
   "metadata": {},
   "outputs": [
    {
     "data": {
      "text/plain": [
       "2.5"
      ]
     },
     "execution_count": 7,
     "metadata": {},
     "output_type": "execute_result"
    }
   ],
   "source": [
    "5/2           # This is a float division of 5 by 2, resulting in a float value. "
   ]
  },
  {
   "cell_type": "code",
   "execution_count": null,
   "id": "2d7b933a",
   "metadata": {},
   "outputs": [
    {
     "data": {
      "text/plain": [
       "2"
      ]
     },
     "execution_count": 8,
     "metadata": {},
     "output_type": "execute_result"
    }
   ],
   "source": [
    "5//2           # This is a floor division of 5 by 2, with rounding down to the nearest integer."
   ]
  },
  {
   "cell_type": "code",
   "execution_count": 17,
   "id": "00aecb30",
   "metadata": {},
   "outputs": [
    {
     "data": {
      "text/plain": [
       "1"
      ]
     },
     "execution_count": 17,
     "metadata": {},
     "output_type": "execute_result"
    }
   ],
   "source": [
    "5%2            # This is a modulo division of 5 by 2 that returns the remainder of the division."
   ]
  }
 ],
 "metadata": {
  "kernelspec": {
   "display_name": "base",
   "language": "python",
   "name": "python3"
  },
  "language_info": {
   "codemirror_mode": {
    "name": "ipython",
    "version": 3
   },
   "file_extension": ".py",
   "mimetype": "text/x-python",
   "name": "python",
   "nbconvert_exporter": "python",
   "pygments_lexer": "ipython3",
   "version": "3.13.5"
  },
  "toc": {
   "base_numbering": 1,
   "nav_menu": {},
   "number_sections": true,
   "sideBar": true,
   "skip_h1_title": false,
   "title_cell": "Table of Contents",
   "title_sidebar": "Contents",
   "toc_cell": false,
   "toc_position": {},
   "toc_section_display": true,
   "toc_window_display": false
  }
 },
 "nbformat": 4,
 "nbformat_minor": 5
}
