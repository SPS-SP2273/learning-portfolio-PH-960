{
 "cells": [
  {
   "attachments": {},
   "cell_type": "markdown",
   "id": "123456",
   "metadata": {},
   "source": [
    "<div style=\"text-align:left;font-size:2em\"><span style=\"font-weight:bolder;font-size:1.25em\">SP2273 | Learning Portfolio</span><br><br><span style=\"font-weight:bold;color:darkred\">Fundamentals (Good) Exercises</span></div>"
   ]
  },
  {
   "cell_type": "markdown",
   "id": "21870dc3",
   "metadata": {
    "vscode": {
     "languageId": "plaintext"
    }
   },
   "source": [
    "## Exercise 1 (f-strings to the rescue)"
   ]
  },
  {
   "cell_type": "code",
   "execution_count": 2,
   "id": "5a682e38",
   "metadata": {},
   "outputs": [
    {
     "name": "stdout",
     "output_type": "stream",
     "text": [
      "You entered 5\n"
     ]
    }
   ],
   "source": [
    "user_input = input('Please provide me with a number?')\n",
    "print('You entered', user_input)"
   ]
  },
  {
   "cell_type": "markdown",
   "id": "9f8308ee",
   "metadata": {},
   "source": [
    "### Task 1"
   ]
  },
  {
   "cell_type": "code",
   "execution_count": 39,
   "id": "7be80502",
   "metadata": {},
   "outputs": [
    {
     "name": "stdout",
     "output_type": "stream",
     "text": [
      "How you doin PH!\n"
     ]
    }
   ],
   "source": [
    "Name = input('What is your name?')\n",
    "print('How you doin', Name + '!')         # I used \"+\" instead of \",\" to remove the space \n",
    "                                          # between the user input value and \"!\""
   ]
  },
  {
   "cell_type": "markdown",
   "id": "72afe9ca",
   "metadata": {},
   "source": [
    "### Task 2"
   ]
  },
  {
   "cell_type": "code",
   "execution_count": 16,
   "id": "7b928962",
   "metadata": {},
   "outputs": [
    {
     "name": "stdout",
     "output_type": "stream",
     "text": [
      "My name is PH and I am 21 years old.\n"
     ]
    }
   ],
   "source": [
    "name = input('What is your name?')\n",
    "age = input('What is your age?')\n",
    "print('My name is', name , \"and I am\", age , \"years old.\" )"
   ]
  },
  {
   "cell_type": "markdown",
   "id": "6af2f389",
   "metadata": {},
   "source": [
    "### Task 3"
   ]
  },
  {
   "cell_type": "code",
   "execution_count": 31,
   "id": "615ff184",
   "metadata": {},
   "outputs": [
    {
     "name": "stdout",
     "output_type": "stream",
     "text": [
      "The value of pi to 2 decimal places is: 3.14\n",
      "The value of pi to 3 decimal places is: 3.142\n",
      "The value of pi to 4 decimal places is: 3.1416\n"
     ]
    }
   ],
   "source": [
    "import numpy as np\n",
    "pi = np.pi\n",
    "print('The value of pi to 2 decimal places is:' , f'{pi:.2f}')\n",
    "print('The value of pi to 3 decimal places is:' , f'{pi:.3f}')\n",
    "print('The value of pi to 4 decimal places is:' , f'{pi:.4f}')"
   ]
  },
  {
   "cell_type": "markdown",
   "id": "9926d558",
   "metadata": {},
   "source": [
    "### Task 4"
   ]
  },
  {
   "cell_type": "code",
   "execution_count": 38,
   "id": "05056e02",
   "metadata": {},
   "outputs": [
    {
     "name": "stdout",
     "output_type": "stream",
     "text": [
      "Apple      $ 0.99\n",
      "Banana     $ 0.59\n",
      "Orange     $ 1.29\n"
     ]
    }
   ],
   "source": [
    "\n",
    "print(f'{'Apple':<10}', f'{'$ 0.99':>5}')\n",
    "print(f'{'Banana':<10}', f'{'$ 0.59':>5}')\n",
    "print(f'{'Orange':<10}', f'{'$ 1.29':>5}')"
   ]
  },
  {
   "cell_type": "markdown",
   "id": "db809451",
   "metadata": {},
   "source": [
    "## Exercise 2 (What is your grade?)"
   ]
  },
  {
   "cell_type": "code",
   "execution_count": 58,
   "id": "f3781458",
   "metadata": {},
   "outputs": [
    {
     "name": "stdout",
     "output_type": "stream",
     "text": [
      "The student's letter grade is: Fail\n"
     ]
    }
   ],
   "source": [
    "Score = input('What is the student\\'s score?')\n",
    "x=int(Score)\n",
    "if 70<=x<=100:\n",
    "    print(\"The student\\'s letter grade is: A\")\n",
    "elif 50<=x<=69:\n",
    "    print(\"The student\\'s letter grade is: B\")\n",
    "elif 35<=x<=49:\n",
    "    print(\"The student\\'s letter grade is: C\")\n",
    "elif 0<=x<=34:\n",
    "    print(\"The student\\'s letter grade is: Fail\")\n",
    "else:\n",
    "    print(\"Error. Please input a valid score.\")\n"
   ]
  }
 ],
 "metadata": {
  "kernelspec": {
   "display_name": "base",
   "language": "python",
   "name": "python3"
  },
  "language_info": {
   "codemirror_mode": {
    "name": "ipython",
    "version": 3
   },
   "file_extension": ".py",
   "mimetype": "text/x-python",
   "name": "python",
   "nbconvert_exporter": "python",
   "pygments_lexer": "ipython3",
   "version": "3.13.5"
  },
  "toc": {
   "base_numbering": 1,
   "nav_menu": {},
   "number_sections": true,
   "sideBar": true,
   "skip_h1_title": false,
   "title_cell": "Table of Contents",
   "title_sidebar": "Contents",
   "toc_cell": false,
   "toc_position": {},
   "toc_section_display": true,
   "toc_window_display": false
  }
 },
 "nbformat": 4,
 "nbformat_minor": 5
}
