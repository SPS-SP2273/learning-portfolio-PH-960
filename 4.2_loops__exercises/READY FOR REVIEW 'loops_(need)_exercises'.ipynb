{
 "cells": [
  {
   "attachments": {},
   "cell_type": "markdown",
   "id": "123456",
   "metadata": {},
   "source": [
    "<div style=\"text-align:left;font-size:2em\"><span style=\"font-weight:bolder;font-size:1.25em\">SP2273 | Learning Portfolio</span><br><br><span style=\"font-weight:bold;color:darkred\">Loops (Need) Exercises</span></div>"
   ]
  },
  {
   "cell_type": "markdown",
   "id": "f7c50177",
   "metadata": {},
   "source": [
    "## Exercise 1"
   ]
  },
  {
   "cell_type": "code",
   "execution_count": 2,
   "id": "9c662e2e",
   "metadata": {},
   "outputs": [
    {
     "name": "stdout",
     "output_type": "stream",
     "text": [
      "0 , 32.0\n",
      "5 , 41.0\n",
      "10 , 50.0\n",
      "15 , 59.0\n",
      "20 , 68.0\n",
      "25 , 77.0\n",
      "30 , 86.0\n",
      "35 , 95.0\n",
      "40 , 104.0\n",
      "45 , 113.0\n",
      "50 , 122.0\n"
     ]
    }
   ],
   "source": [
    "temperatures_celsius = [\n",
    "    0, 5, 10, 15, 20, 25,\n",
    "    30, 35, 40, 45, 50\n",
    "]\n",
    "for temp in temperatures_celsius:\n",
    "    F_temp = (temp * 9/5) + 32\n",
    "    print(temp, \",\" , F_temp)"
   ]
  },
  {
   "cell_type": "markdown",
   "id": "7854a787",
   "metadata": {},
   "source": [
    "## Exercise 2   "
   ]
  },
  {
   "cell_type": "markdown",
   "id": "2c56e3ba",
   "metadata": {},
   "source": [
    "### Example"
   ]
  },
  {
   "cell_type": "code",
   "execution_count": 3,
   "id": "aed67a98",
   "metadata": {},
   "outputs": [
    {
     "name": "stdout",
     "output_type": "stream",
     "text": [
      "A1\tA2\tA3\t\n",
      "\n",
      "B1\tB2\tB3\t\n",
      "\n",
      "C1\tC2\tC3\t\n",
      "\n"
     ]
    }
   ],
   "source": [
    "for letter in ['A', 'B', 'C']:\n",
    "    for number in [1, 2, 3]:\n",
    "        print(f'{letter}{number}', end='\\t')\n",
    "    print('\\n')"
   ]
  },
  {
   "cell_type": "markdown",
   "id": "711ba163",
   "metadata": {},
   "source": [
    "### Task"
   ]
  },
  {
   "cell_type": "code",
   "execution_count": null,
   "id": "ae2c453b",
   "metadata": {},
   "outputs": [
    {
     "name": "stdout",
     "output_type": "stream",
     "text": [
      "1 : 1  2  3  4  5  \n",
      "\n",
      "2 : 2  4  6  8  10 \n",
      "\n",
      "3 : 3  6  9  12 15 \n",
      "\n",
      "4 : 4  8  12 16 20 \n",
      "\n",
      "5 : 5  10 15 20 25 \n",
      "\n"
     ]
    }
   ],
   "source": [
    "for number in [1, 2, 3, 4, 5]:\n",
    "    print(f'{number} : ', end = '')                     # end='' is used to stop automatic movement to the next line \n",
    "    for morenumbers in [1, 2, 3, 4, 5]:\n",
    "        product = morenumbers * number\n",
    "        print(f'{product:<3}', end='')                  # this relies on f-string alignment to space out the numbers, instead of using tabs\n",
    "    print('\\n')"
   ]
  },
  {
   "cell_type": "markdown",
   "id": "886d65b6",
   "metadata": {},
   "source": [
    "## Exercise 3"
   ]
  },
  {
   "cell_type": "markdown",
   "id": "23d084fd",
   "metadata": {},
   "source": [
    "### Example"
   ]
  },
  {
   "cell_type": "code",
   "execution_count": 32,
   "id": "06d34693",
   "metadata": {},
   "outputs": [
    {
     "data": {
      "text/plain": [
       "array([0.51851761, 0.21150659, 0.69172317, 0.92562255, 0.35751675,\n",
       "       0.74487218, 0.49868605, 0.40587646, 0.79128155, 0.76872269])"
      ]
     },
     "execution_count": 32,
     "metadata": {},
     "output_type": "execute_result"
    }
   ],
   "source": [
    "import numpy as np\n",
    "np.random.rand(10)"
   ]
  },
  {
   "cell_type": "markdown",
   "id": "06f86747",
   "metadata": {},
   "source": [
    "### Task"
   ]
  },
  {
   "cell_type": "code",
   "execution_count": null,
   "id": "67098fb9",
   "metadata": {},
   "outputs": [
    {
     "name": "stdout",
     "output_type": "stream",
     "text": [
      "Experiment 1: No. of Heads = 4\n",
      "\n",
      "\n",
      "Experiment 2: No. of Heads = 4\n",
      "\n",
      "\n",
      "Experiment 3: No. of Heads = 7\n",
      "\n",
      "\n",
      "Experiment 4: No. of Heads = 8\n",
      "\n",
      "\n",
      "Experiment 5: No. of Heads = 4\n",
      "\n",
      "\n",
      "Experiment 6: No. of Heads = 4\n",
      "\n",
      "\n",
      "Experiment 7: No. of Heads = 9\n",
      "\n",
      "\n",
      "Experiment 8: No. of Heads = 4\n",
      "\n",
      "\n",
      "Experiment 9: No. of Heads = 3\n",
      "\n",
      "\n",
      "Experiment 10: No. of Heads = 4\n",
      "\n",
      "\n"
     ]
    }
   ],
   "source": [
    "for runs in range(1,11):                                                # Generates values 1 to 10\n",
    "    runs = str(runs)                                                    # converted to string class (look at last comment for explanation)\n",
    "    np_array = np.random.rand(10)\n",
    "    mask = np_array > 0.5\n",
    "    heads = len(np_array[mask])                                         # Uses the length of array containing only \"True\" values to count heads\n",
    "    print(\"Experiment\", runs + ': No. of Heads =' , heads)              # I used + instead of , to remove the space between the experiment number of the colon \n",
    "    print('\\n')                                                         # which is also why I changed \"runs\" into a string value (otherwise it wouldn't work)\n"
   ]
  },
  {
   "cell_type": "code",
   "execution_count": 35,
   "id": "c8dbf493",
   "metadata": {},
   "outputs": [
    {
     "name": "stdout",
     "output_type": "stream",
     "text": [
      "Experiment 1: No. of Heads = 4\n",
      "\n",
      "\n",
      "Experiment 2: No. of Heads = 8\n",
      "\n",
      "\n",
      "Experiment 3: No. of Heads = 5\n",
      "\n",
      "\n",
      "Experiment 4: No. of Heads = 4\n",
      "\n",
      "\n",
      "Experiment 5: No. of Heads = 4\n",
      "\n",
      "\n",
      "Experiment 6: No. of Heads = 2\n",
      "\n",
      "\n",
      "Experiment 7: No. of Heads = 4\n",
      "\n",
      "\n",
      "Experiment 8: No. of Heads = 5\n",
      "\n",
      "\n",
      "Experiment 9: No. of Heads = 6\n",
      "\n",
      "\n",
      "Experiment 10: No. of Heads = 4\n",
      "\n",
      "\n"
     ]
    }
   ],
   "source": [
    "for runs in range(1,11):                                             # Alternative solution using fstrings and np.sum                                  \n",
    "    np_array = np.random.rand(10)\n",
    "    mask = np_array > 0.5\n",
    "    heads = np.sum(mask)                            \n",
    "    print(f'Experiment {runs}: No. of Heads = {heads}')              \n",
    "    print('\\n')"
   ]
  }
 ],
 "metadata": {
  "kernelspec": {
   "display_name": "base",
   "language": "python",
   "name": "python3"
  },
  "language_info": {
   "codemirror_mode": {
    "name": "ipython",
    "version": 3
   },
   "file_extension": ".py",
   "mimetype": "text/x-python",
   "name": "python",
   "nbconvert_exporter": "python",
   "pygments_lexer": "ipython3",
   "version": "3.13.5"
  },
  "toc": {
   "base_numbering": 1,
   "nav_menu": {},
   "number_sections": true,
   "sideBar": true,
   "skip_h1_title": false,
   "title_cell": "Table of Contents",
   "title_sidebar": "Contents",
   "toc_cell": false,
   "toc_position": {},
   "toc_section_display": true,
   "toc_window_display": false
  }
 },
 "nbformat": 4,
 "nbformat_minor": 5
}
