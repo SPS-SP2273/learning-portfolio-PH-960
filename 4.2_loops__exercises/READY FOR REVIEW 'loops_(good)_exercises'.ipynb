{
 "cells": [
  {
   "attachments": {},
   "cell_type": "markdown",
   "id": "123456",
   "metadata": {},
   "source": [
    "<div style=\"text-align:left;font-size:2em\"><span style=\"font-weight:bolder;font-size:1.25em\">SP2273 | Learning Portfolio</span><br><br><span style=\"font-weight:bold;color:darkred\">Loops (Good) Exercises</span></div>"
   ]
  },
  {
   "cell_type": "markdown",
   "id": "103afd8f",
   "metadata": {},
   "source": [
    "## Exercise 1 (Make me an odd list)"
   ]
  },
  {
   "cell_type": "code",
   "execution_count": 13,
   "id": "03f16aad",
   "metadata": {},
   "outputs": [
    {
     "name": "stdout",
     "output_type": "stream",
     "text": [
      "[1, 9, 25, 49, 81]\n"
     ]
    }
   ],
   "source": [
    "list_of_squares = []                                    # creates an empty list to add elements later\n",
    "for number in range(10):                                # generates numbers 0 to 9\n",
    "    if number % 2 == 0:\n",
    "        continue                                        # if number has a remainder of 0, the current loop will be skipped to start the next loop\n",
    "    else:\n",
    "        square_number = number ** 2\n",
    "        list_of_squares.append(square_number)\n",
    "print(list_of_squares)"
   ]
  },
  {
   "cell_type": "markdown",
   "id": "3cd454c4",
   "metadata": {},
   "source": [
    "## Exercise 2 (Make me another odd list)"
   ]
  },
  {
   "cell_type": "code",
   "execution_count": 2,
   "id": "68fb79a2",
   "metadata": {},
   "outputs": [
    {
     "name": "stdout",
     "output_type": "stream",
     "text": [
      "[1, 9, 25, 49, 81]\n"
     ]
    }
   ],
   "source": [
    "list = [number ** 2 for number in range(10) if number % 2 != 0]\n",
    "print(list)"
   ]
  },
  {
   "cell_type": "markdown",
   "id": "7eab3680",
   "metadata": {},
   "source": [
    "## Exercise 3 (Time me!)"
   ]
  },
  {
   "cell_type": "code",
   "execution_count": 18,
   "id": "ee42ec2a",
   "metadata": {},
   "outputs": [
    {
     "name": "stdout",
     "output_type": "stream",
     "text": [
      "1.79 μs ± 487 ns per loop (mean ± std. dev. of 7 runs, 100,000 loops each)\n"
     ]
    }
   ],
   "source": [
    "%%timeit\n",
    "list_of_squares = []\n",
    "for number in range(10):                                \n",
    "    if number % 2 == 0:\n",
    "        continue                                        \n",
    "    else:\n",
    "        square_number = number ** 2\n",
    "        list_of_squares.append(square_number)"
   ]
  },
  {
   "cell_type": "code",
   "execution_count": 4,
   "id": "b5f028e2",
   "metadata": {},
   "outputs": [
    {
     "name": "stdout",
     "output_type": "stream",
     "text": [
      "1.54 μs ± 226 ns per loop (mean ± std. dev. of 7 runs, 100,000 loops each)\n"
     ]
    }
   ],
   "source": [
    "%%timeit\n",
    "list = [number ** 2 for number in range(10) if number % 2 != 0]"
   ]
  },
  {
   "cell_type": "markdown",
   "id": "4a9f8484",
   "metadata": {},
   "source": [
    "CORRECTED ANSWER: \n",
    "- The second solution is faster as list comprehension is programmed to be a more optimised and efficient way of performing loops in python.  \n",
    "- The initial answer was wrong as the first code did not produce a list and hence could take a shorter time."
   ]
  },
  {
   "cell_type": "markdown",
   "id": "b4f99dd0",
   "metadata": {},
   "source": [
    "## Exercise 4 (A problem of decay)"
   ]
  },
  {
   "cell_type": "code",
   "execution_count": null,
   "id": "4be8d242",
   "metadata": {},
   "outputs": [
    {
     "name": "stdout",
     "output_type": "stream",
     "text": [
      "First Half Life: 13.515068493150684 years\n"
     ]
    }
   ],
   "source": [
    "Quantity = 100\n",
    "days = 0\n",
    "while Quantity > 50:   \n",
    "    Quantity = Quantity*((0.95)**(1/365))                   # To measure the decay in days by converting from 5% yearly decay rate\n",
    "    days += 1\n",
    "years = days/365\n",
    "\n",
    "\n",
    "print(\"First Half Life:\" , years , \"years\")\n"
   ]
  },
  {
   "cell_type": "markdown",
   "id": "2daceff8",
   "metadata": {},
   "source": [
    "## Exercise 5 (Changes in CO2)"
   ]
  },
  {
   "cell_type": "code",
   "execution_count": 55,
   "id": "a619fc9a",
   "metadata": {},
   "outputs": [
    {
     "name": "stdout",
     "output_type": "stream",
     "text": [
      "2016: 404.24 vs 2015: 400.83 \n",
      "Change in concentration = 3.410000000000025\n"
     ]
    }
   ],
   "source": [
    "co2_data = [\n",
    "    (2000, 369.55), (2001, 371.14), (2002, 373.28), \n",
    "    (2003, 375.80), (2004, 377.52), (2005, 379.80), \n",
    "    (2006, 381.90), (2007, 383.79), (2008, 385.60), \n",
    "    (2009, 387.43), (2010, 389.90), (2011, 391.65), \n",
    "    (2012, 393.85), (2013, 396.52), (2014, 398.65),\n",
    "    (2015, 400.83), (2016, 404.24), (2017, 406.55), \n",
    "    (2018, 408.52), (2019, 411.44), (2020, 414.24)\n",
    "]\n",
    "for i in range(1, len(co2_data)):                     #  Range starts from the second tuple since the first tuple has no previous comparisons\n",
    "    current_year, current_co2 = co2_data[i]           # Defines the variables as the current tuple elements\n",
    "    prev_year, previous_co2 = co2_data[i-1]           # Defines the variables as the previous tuple elements\n",
    "    if current_co2 >= (previous_co2 + 3):\n",
    "        print(f\"{current_year}: {current_co2} vs {prev_year}: {previous_co2} \\nChange in concentration = {current_co2 - previous_co2}\")\n"
   ]
  }
 ],
 "metadata": {
  "kernelspec": {
   "display_name": "base",
   "language": "python",
   "name": "python3"
  },
  "language_info": {
   "codemirror_mode": {
    "name": "ipython",
    "version": 3
   },
   "file_extension": ".py",
   "mimetype": "text/x-python",
   "name": "python",
   "nbconvert_exporter": "python",
   "pygments_lexer": "ipython3",
   "version": "3.13.5"
  },
  "toc": {
   "base_numbering": 1,
   "nav_menu": {},
   "number_sections": true,
   "sideBar": true,
   "skip_h1_title": false,
   "title_cell": "Table of Contents",
   "title_sidebar": "Contents",
   "toc_cell": false,
   "toc_position": {},
   "toc_section_display": true,
   "toc_window_display": false
  }
 },
 "nbformat": 4,
 "nbformat_minor": 5
}
